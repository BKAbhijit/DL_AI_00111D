{
 "cells": [
  {
   "cell_type": "markdown",
   "metadata": {},
   "source": [
    "# Assignment"
   ]
  },
  {
   "cell_type": "code",
   "execution_count": 1,
   "metadata": {},
   "outputs": [],
   "source": [
    "import numpy as np\n",
    "from ast import literal_eval\n",
    "import matplotlib.pyplot as plt\n"
   ]
  },
  {
   "cell_type": "markdown",
   "metadata": {},
   "source": [
    "Q1. Create two arrays of six elements. Write the NumPy program to\n",
    "count the number of instances of a value occurring in one array on\n",
    "the condition of another array.\n",
    "\n",
    "    Sample OutputOriginal arrays-\n",
    "    [ 10 -10 10 -10 -10 10]\n",
    "    [0.85 0.45 0.9 0.8 0.12 0.6 ]\n",
    "    Number of instances of a value occurring in one array on the condition of another\n",
    "    array: 3\n"
   ]
  },
  {
   "cell_type": "code",
   "execution_count": 2,
   "metadata": {},
   "outputs": [
    {
     "name": "stdout",
     "output_type": "stream",
     "text": [
      "#First array is:\n",
      "[ 10 -10  10 -10 -10  10]\n",
      "\n",
      "#Second array is:\n",
      "[0.85 0.45 0.9  0.8  0.12 0.6 ]\n",
      "\n",
      "#Number of instances of a value occurring in one array on the condition of other array: \n",
      "3\n",
      "----------------------------------------------------------------------------------------------------\n"
     ]
    }
   ],
   "source": [
    "arr1 = np.array([10, -10, 10, -10, -10, 10])\n",
    "arr2 = np.array([.85, .45, .9, .8, .12, .6])\n",
    "\n",
    "print(\"#First array is:\")\n",
    "print(arr1)\n",
    "\n",
    "print(\"\\n#Second array is:\")\n",
    "print(arr2)\n",
    "\n",
    "print(\"\\n#Number of instances of a value occurring in one array on the condition of other array: \")\n",
    "print(np.sum((arr1 == 10) & (arr2 > .5)))\n",
    "print(\"-\" * 100)\n"
   ]
  },
  {
   "cell_type": "markdown",
   "metadata": {},
   "source": [
    "Q2. Write the NumPy program to convert a Python dictionary to a\n",
    "Numpy ndarray ?\n",
    "    \n",
    "    Original dictionary-\n",
    "    {'column0': {'a': 1, 'b': 0.0, 'c': 0.0, 'd': 2.0},\n",
    "    'column1': {'a': 3.0, 'b': 1, 'c': 0.0, 'd': -1.0},\n",
    "    'column2': {'a': 4, 'b': 1, 'c': 5.0, 'd': -1.0},\n",
    "    'column3': {'a': 3.0, 'b': -1.0, 'c': -1.0, 'd': -1.0}}\n",
    "    Type: <class 'dict'>\n",
    "    ndarray-\n",
    "    [[ 1. 0. 0. 2.]\n",
    "    [ 3. 1. 0. -1.]\n",
    "    [ 4. 1. 5. -1.]\n",
    "    [ 3. -1. -1. -1.]]\n",
    "    Type: <class 'numpy.ndarray'>\n"
   ]
  },
  {
   "cell_type": "code",
   "execution_count": 3,
   "metadata": {},
   "outputs": [
    {
     "name": "stdout",
     "output_type": "stream",
     "text": [
      "#Original dictionary of type '<class 'dict'>' is:\n",
      "{'column0': {'a': 1, 'b': 0.0, 'c': 0.0, 'd': 2.0}, 'column1': {'a': 3.0, 'b': 1, 'c': 0.0, 'd': -1.0}, 'column2': {'a': 4, 'b': 1, 'c': 5.0, 'd': -1.0}, 'column3': {'a': 3.0, 'b': -1.0, 'c': -1.0, 'd': -1.0}}\n",
      "\n",
      "#Extracted 2D array of type '<class 'numpy.ndarray'>' is:\n",
      "[[ 1.  0.  0.  2.]\n",
      " [ 3.  1.  0. -1.]\n",
      " [ 4.  1.  5. -1.]\n",
      " [ 3. -1. -1. -1.]]\n",
      "----------------------------------------------------------------------------------------------------\n"
     ]
    }
   ],
   "source": [
    "dict1 = {'column0': {'a': 1, 'b': 0.0, 'c': 0.0, 'd': 2.0},\n",
    "        'column1': {'a': 3.0, 'b': 1, 'c': 0.0, 'd': -1.0},\n",
    "        'column2': {'a': 4, 'b': 1, 'c': 5.0, 'd': -1.0},\n",
    "        'column3': {'a': 3.0, 'b': -1.0, 'c': -1.0, 'd': -1.0}}\n",
    "\n",
    "arr = np.array([[val for key, val in inner_dict.items()] for key, inner_dict in dict1.items()]) \n",
    "\n",
    "print(f\"#Original dictionary of type '{type(dict1)}' is:\")\n",
    "print(dict1)\n",
    "\n",
    "print(f\"\\n#Extracted 2D array of type '{type(arr)}' is:\")\n",
    "print(arr)\n",
    "print(\"-\" * 100)\n"
   ]
  },
  {
   "cell_type": "markdown",
   "metadata": {},
   "source": [
    "Q3. Write the Numpy program to find and store the non-zero unique\n",
    "rows in an array after comparing each row with other row in the\n",
    "given matrix?\n",
    " \n",
    "    Original array-\n",
    "    [[ 1 1 0]\n",
    "    [ 0 0 0]\n",
    "    [ 0 2 3]\n",
    "    [ 0 0 0]\n",
    "    [ 0 -1 1]\n",
    "    [ 0 0 0]]\n",
    "    Non-zero unique rows-\n",
    "    [[ 1 1 0]\n",
    "    [ 0 2 3]\n",
    "    [ 0 -1 1]]"
   ]
  },
  {
   "cell_type": "code",
   "execution_count": 4,
   "metadata": {},
   "outputs": [
    {
     "name": "stdout",
     "output_type": "stream",
     "text": [
      "#Original 2D array of shape (6, 3) is:\n",
      "[[ 1  1  0]\n",
      " [ 0  0  0]\n",
      " [ 0  2  3]\n",
      " [ 0  0  0]\n",
      " [ 0 -1  1]\n",
      " [ 0  0  0]]\n",
      "\n",
      "#Array with rows containing at least one non-zero element is:\n",
      "[[ 1  1  0]\n",
      " [ 0  2  3]\n",
      " [ 0 -1  1]]\n",
      "----------------------------------------------------------------------------------------------------\n"
     ]
    }
   ],
   "source": [
    "str_2d_arr = \"\"\"[[ 1, 1, 0],\n",
    "                [ 0, 0, 0],\n",
    "                [ 0, 2, 3],\n",
    "                [ 0, 0, 0],\n",
    "                [ 0, -1, 1],\n",
    "                [ 0, 0, 0]]\"\"\"\n",
    "\n",
    "arr = np.array(literal_eval(str_2d_arr))\n",
    "print(f\"#Original 2D array of shape {arr.shape} is:\")\n",
    "arr = np.array([lst for lst in arr])\n",
    "print(arr)\n",
    "\n",
    "print(f\"\\n#Array with rows containing at least one non-zero element is:\")\n",
    "arr = np.array([lst for lst in arr if np.count_nonzero(lst) > 0])\n",
    "print(arr)\n",
    "print(\"-\" * 100)\n"
   ]
  },
  {
   "cell_type": "markdown",
   "metadata": {},
   "source": [
    "Q4. Write the NumPy program to multiply the matrix by another matrix\n",
    "of complex numbers and create a new matrix of complex\n",
    "numbers?\n",
    "\n",
    "    Sample outputFirst array-\n",
    "    [ 1.+2.j 3.+4.j]\n",
    "    Second array-\n",
    "    [ 5.+6.j 7.+8.j]\n",
    "    Product of above two arrays-\n",
    "    (70-8j)"
   ]
  },
  {
   "cell_type": "code",
   "execution_count": 5,
   "metadata": {},
   "outputs": [
    {
     "name": "stdout",
     "output_type": "stream",
     "text": [
      "#First matrix of shape (2,) is:\n",
      "[1.+2.j 3.+4.j]\n",
      "\n",
      "#Second matrix of shape (2,) is:\n",
      "[5.+6.j 7.+8.j]\n",
      "\n",
      "#Resultant matrix of shape (6,) is:\n",
      "[ 8.5 -4.5  9.  -8.  -1.2  6. ]\n",
      "----------------------------------------------------------------------------------------------------\n"
     ]
    }
   ],
   "source": [
    "mat1 = np.array([ 1.+2.j, 3.+4.j])\n",
    "mat2 = np.array([ 5.+6.j, 7.+8.j])\n",
    "\n",
    "resultant_mat = arr1 * arr2\n",
    "\n",
    "print(f\"#First matrix of shape {mat1.shape} is:\")\n",
    "print(mat1)\n",
    "\n",
    "print(f\"\\n#Second matrix of shape {mat2.shape} is:\")\n",
    "print(mat2)\n",
    "\n",
    "print(f\"\\n#Resultant matrix of shape {resultant_mat.shape} is:\")\n",
    "print(resultant_mat)\n",
    "print(\"-\" * 100)\n"
   ]
  },
  {
   "cell_type": "markdown",
   "metadata": {},
   "source": [
    "Q5. Write a NumPy program to generate the matrix product of two\n",
    "Arrays?\n",
    "\n",
    "    Sample OutputMatrices and vectors.\n",
    "    x-\n",
    "    [[1, 0], [1, 1]]\n",
    "    y-\n",
    "    [[3, 1], [2, 2]]\n",
    "    Matrix product of above two arrays-\n",
    "    [[3 1]\n",
    "    [5 3]]\n"
   ]
  },
  {
   "cell_type": "code",
   "execution_count": 6,
   "metadata": {},
   "outputs": [
    {
     "name": "stdout",
     "output_type": "stream",
     "text": [
      "#First matrix of shape (2, 2) is:\n",
      "[[1 0]\n",
      " [1 1]]\n",
      "\n",
      "#Second matrix of shape (2, 2) is:\n",
      "[[3 1]\n",
      " [2 2]]\n",
      "\n",
      "#Matrix product of these two arrays is:\n",
      "[[3 1]\n",
      " [5 3]]\n",
      "----------------------------------------------------------------------------------------------------\n"
     ]
    }
   ],
   "source": [
    "mat1 = np.array([[1, 0], [1, 1]])\n",
    "mat2 = np.array([[3, 1], [2, 2]])\n",
    "\n",
    "print(f\"#First matrix of shape {mat1.shape} is:\")\n",
    "print(mat1)\n",
    "\n",
    "print(f\"\\n#Second matrix of shape {mat2.shape} is:\")\n",
    "print(mat2)\n",
    "\n",
    "print(\"\\n#Matrix product of these two arrays is:\")\n",
    "print(np.matmul(mat1, mat2))\n",
    "print(\"-\" * 100)\n"
   ]
  },
  {
   "cell_type": "markdown",
   "metadata": {},
   "source": [
    "Q6. Write the NumPy program to find roots of the following\n",
    "Polynomials?\n",
    "\n",
    "    a) (x\n",
    "    2\n",
    "    - 4x + 7)\n",
    "    b) x4\n",
    "    - 11x3 + 9x2 + 11x ? 10\n",
    "    Sample outputRoots of the first polynomial-\n",
    "    [ 1. 1.]\n",
    "    Roots of the second polynomial-\n",
    "    [ 11.04461946+0.j -0.87114210+0.j 0.91326132+0.4531004j\n",
    "    0.91326132-0.4531004j ]"
   ]
  },
  {
   "cell_type": "code",
   "execution_count": 7,
   "metadata": {},
   "outputs": [
    {
     "name": "stdout",
     "output_type": "stream",
     "text": [
      "Value of the Polynomial 'x2 − 4x + 7', when x = 2 is:\n",
      "1\n",
      "\n",
      "#Roots of the Polynomial 'x2 − 4x + 7' is:\n",
      "[1. 1.]\n",
      "\n",
      "#Polynomial value of 'x4 - 11x3 + 9x2 + 11x', when x = 3:\n",
      "-142\n",
      "\n",
      "#Roots of the Polynomial 'x4 - 11x3 + 9x2 + 11x' is:\n",
      "[11.04461946+0.j        -0.8711421 +0.j         0.91326132+0.4531004j\n",
      "  0.91326132-0.4531004j]\n",
      "----------------------------------------------------------------------------------------------------\n"
     ]
    }
   ],
   "source": [
    "print(\"Value of the Polynomial 'x2 − 4x + 7', when x = 2 is:\")\n",
    "print(np.polyval([1, -2, 1], 2))\n",
    "\n",
    "print(\"\\n#Roots of the Polynomial 'x2 − 4x + 7' is:\")\n",
    "print(np.roots([1, -2, 1]))\n",
    "\n",
    "print(\"\\n#Polynomial value of 'x4 - 11x3 + 9x2 + 11x', when x = 3:\")\n",
    "print(np.polyval([1, -12, 10, 7, -10], 3))\n",
    "\n",
    "print(\"\\n#Roots of the Polynomial 'x4 - 11x3 + 9x2 + 11x' is:\")\n",
    "print(np.roots([1, -12, 10, 7, -10]))\n",
    "print(\"-\" * 100)\n"
   ]
  },
  {
   "cell_type": "markdown",
   "metadata": {},
   "source": [
    "Q7. Write the NumPy program to calculate inverse of sine, cosine,\n",
    "and inverse tangent for all elements in a given array?\n",
    "\n",
    "    Sample outputInverse sine- [-1.57079633 0. 1.57079633]\n",
    "    Inverse cosine- [3.14159265 1.57079633 0. ]\n",
    "    Inverse tangent- [-0.78539816 0. 0.78539816]"
   ]
  },
  {
   "cell_type": "code",
   "execution_count": 8,
   "metadata": {},
   "outputs": [
    {
     "name": "stdout",
     "output_type": "stream",
     "text": [
      "#Inverse sine of array '[-1.  0.  1.]' is:\n",
      "[-1.57079633  0.          1.57079633]\n",
      "\n",
      "#Inverse cosine of array '[-1.  0.  1.]' is:\n",
      "[3.14159265 1.57079633 0.        ]\n",
      "\n",
      "#Inverse tangent of array '[-1.  0.  1.]' is:\n",
      "[-0.78539816  0.          0.78539816]\n",
      "----------------------------------------------------------------------------------------------------\n"
     ]
    }
   ],
   "source": [
    "arr = np.array([-1., 0, 1.])\n",
    "\n",
    "print(f\"#Inverse sine of array '{arr}' is:\")\n",
    "print(np.arcsin(arr))\n",
    "\n",
    "print(f\"\\n#Inverse cosine of array '{arr}' is:\")\n",
    "print(np.arccos(arr))\n",
    "\n",
    "print(f\"\\n#Inverse tangent of array '{arr}' is:\")\n",
    "print(np.arctan(arr))\n",
    "print(\"-\" * 100)\n"
   ]
  },
  {
   "cell_type": "markdown",
   "metadata": {},
   "source": [
    "Q8. Write the NumPy program to calculate the difference between in\n",
    "neighbouring elements, element-wise of a given array?\n",
    "\n",
    "    Sample outputOriginal array-\n",
    "    [1 3 5 7 0]\n",
    "    Difference between neighbouring elements, element-wise of the said array-\n",
    "    [ 2 2 2 -7]"
   ]
  },
  {
   "cell_type": "code",
   "execution_count": 9,
   "metadata": {},
   "outputs": [
    {
     "name": "stdout",
     "output_type": "stream",
     "text": [
      "#Original array of shape (5,) is:\n",
      "[1 3 5 7 0]\n",
      "\n",
      "#Difference between neighbouring elements, element-wise of this array:\n",
      "[ 2  2  2 -7]\n",
      "----------------------------------------------------------------------------------------------------\n"
     ]
    }
   ],
   "source": [
    "arr = np.array([1, 3, 5, 7, 0])\n",
    "\n",
    "print(f\"#Original array of shape {arr.shape} is:\")\n",
    "print(arr)\n",
    "\n",
    "print(f\"\\n#Difference between neighbouring elements, element-wise of this array:\")\n",
    "print(np.ediff1d(arr))\n",
    "print(\"-\" * 100)\n"
   ]
  },
  {
   "cell_type": "markdown",
   "metadata": {},
   "source": [
    "Q9. Write the Python program to find the maximum and the minimum\n",
    "value of a given flattened array?\n",
    "\n",
    "    Expected OutputOriginal flattened array-\n",
    "    [[0 1]\n",
    "    [2 3]]\n",
    "    Maximum value of the above flattened array3\n",
    "    Minimum value of the above flattened array0"
   ]
  },
  {
   "cell_type": "code",
   "execution_count": 10,
   "metadata": {},
   "outputs": [
    {
     "name": "stdout",
     "output_type": "stream",
     "text": [
      "#Original array of shape (4, 2) is:\n",
      "[[0 1]\n",
      " [2 3]\n",
      " [9 4]\n",
      " [5 7]]\n",
      "\n",
      "#After flattening this array, the shape (8,) is:\n",
      "[0 1 2 3 9 4 5 7]\n",
      "\n",
      "#Maximum element in this array is:\n",
      "9\n",
      "\n",
      "#Minimum element in this array is:\n",
      "0\n",
      "----------------------------------------------------------------------------------------------------\n"
     ]
    }
   ],
   "source": [
    "arr = np.array([[0, 1], [2, 3], [9, 4], [5, 7]])\n",
    "\n",
    "flatten_arr = arr.flatten()\n",
    "max_element = np.max(flatten_arr)\n",
    "min_element = np.min(flatten_arr)\n",
    "\n",
    "print(f\"#Original array of shape {arr.shape} is:\")\n",
    "print(arr)\n",
    "\n",
    "print(f\"\\n#After flattening this array, the shape {flatten_arr.shape} is:\")\n",
    "print(flatten_arr)\n",
    "\n",
    "print(f\"\\n#Maximum element in this array is:\")\n",
    "print(max_element)\n",
    "\n",
    "print(f\"\\n#Minimum element in this array is:\")\n",
    "print(min_element)\n",
    "print(\"-\" * 100)\n"
   ]
  },
  {
   "cell_type": "markdown",
   "metadata": {},
   "source": [
    "Q10. Write the NumPy program to calculate the difference between in\n",
    "the maximum and the minimum values of a given array along the\n",
    "second axis ?\n",
    "\n",
    "    Expected OutputOriginal array-\n",
    "    [[ 0 1 2 3 4 5]\n",
    "    [ 6 7 8 9 10 11]]\n",
    "    Difference between the maximum and the minimum values of the said array-\n",
    "    [5 5]\n"
   ]
  },
  {
   "cell_type": "code",
   "execution_count": 11,
   "metadata": {},
   "outputs": [
    {
     "name": "stdout",
     "output_type": "stream",
     "text": [
      "#Original array of shape (2, 6) is:\n",
      "[[ 0  1  2  3  4  5]\n",
      " [ 6  7  8  9 10 11]]\n",
      "\n",
      "#Difference between the maximum and the minimum values of this array is:\n",
      "[5, 5]\n",
      "----------------------------------------------------------------------------------------------------\n"
     ]
    }
   ],
   "source": [
    "arr = np.array([[0, 1, 2, 3, 4, 5], [6, 7, 8, 9, 10, 11]])\n",
    "\n",
    "diff_arr = [np.max(lst) - np.min(lst) for lst in arr]\n",
    "\n",
    "print(f\"#Original array of shape {arr.shape} is:\")\n",
    "print(arr)\n",
    "\n",
    "print(f\"\\n#Difference between the maximum and the minimum values of this array is:\")\n",
    "print(diff_arr)\n",
    "print(\"-\" * 100)\n"
   ]
  },
  {
   "cell_type": "markdown",
   "metadata": {},
   "source": [
    "Q11. Write the NumPy program to compute the weighted of the given\n",
    "array ?\n",
    "\n",
    "    Sample OutputOriginal array-\n",
    "    [0 1 2 3 4]\n",
    "    Weighted average of the said array2.6666666666666665"
   ]
  },
  {
   "cell_type": "code",
   "execution_count": 12,
   "metadata": {},
   "outputs": [
    {
     "name": "stdout",
     "output_type": "stream",
     "text": [
      "#Original array is: \n",
      "[0 1 2 3 4]\n",
      "\n",
      "#Weighted average of this array is: \n",
      "2.666666666666667\n",
      "----------------------------------------------------------------------------------------------------\n"
     ]
    }
   ],
   "source": [
    "arr = np.arange(5)\n",
    "\n",
    "weight_arr = np.arange(1, 6)\n",
    "wtd_avg = (arr * (weight_arr / weight_arr.sum())).sum()\n",
    "\n",
    "print(\"#Original array is: \")\n",
    "print(arr)\n",
    "\n",
    "print(\"\\n#Weighted average of this array is: \")\n",
    "print(wtd_avg)\n",
    "print(\"-\" * 100)\n"
   ]
  },
  {
   "cell_type": "markdown",
   "metadata": {},
   "source": [
    "Q12. Write the NumPy program to compute the mean, standard\n",
    "deviation, and the variance of a given array along the second\n",
    "axis?\n",
    "\n",
    "    Sample outputOriginal array-\n",
    "    [0 1 2 3 4 5]\n",
    "    Mean- 2.5\n",
    "    std- 1\n",
    "    variance- 2.9166666666666665"
   ]
  },
  {
   "cell_type": "code",
   "execution_count": 13,
   "metadata": {},
   "outputs": [
    {
     "name": "stdout",
     "output_type": "stream",
     "text": [
      "#Original array is:\n",
      "[0 1 2 3 4 5]\n",
      "\n",
      "#Mean: 2.5\n",
      "\n",
      "#Standard Deviation: 1.707825127659933\n",
      "\n",
      "#Variance: 2.9166666666666665\n",
      "----------------------------------------------------------------------------------------------------\n"
     ]
    }
   ],
   "source": [
    "arr = np.arange(6)\n",
    "\n",
    "print(\"#Original array is:\")\n",
    "print(arr)\n",
    "\n",
    "print(f\"\\n#Mean: {np.mean(arr)}\")\n",
    "print(f\"\\n#Standard Deviation: {np.std(arr)}\")\n",
    "print(f\"\\n#Variance: {np.var(arr)}\")\n",
    "print(\"-\" * 100)\n"
   ]
  },
  {
   "cell_type": "markdown",
   "metadata": {},
   "source": [
    "Q13. Write the Numpy program to compute the covariance matrix of the\n",
    "two given arrays?\n",
    "    \n",
    "    Sample OutputOriginal array1-\n",
    "    [0 1 2]\n",
    "    Original array1-\n",
    "    [2 1 0]\n",
    "    Covariance matrix of the said arrays-\n",
    "    [[ 1. -1.]\n",
    "    [-1. 1.]]"
   ]
  },
  {
   "cell_type": "code",
   "execution_count": 14,
   "metadata": {},
   "outputs": [
    {
     "name": "stdout",
     "output_type": "stream",
     "text": [
      "#First array is:\n",
      "[0 1 2]\n",
      "\n",
      "#Second array is:\n",
      "[2 1 0]\n",
      "\n",
      "#Covariance matrix of these two arrays is:\n",
      "[[ 1. -1.]\n",
      " [-1.  1.]]\n",
      "----------------------------------------------------------------------------------------------------\n"
     ]
    }
   ],
   "source": [
    "arr1 = np.array([0, 1, 2])\n",
    "arr2 = np.array([2, 1, 0])\n",
    "\n",
    "print(\"#First array is:\")\n",
    "print(arr1)\n",
    "\n",
    "print(\"\\n#Second array is:\")\n",
    "print(arr2)\n",
    "\n",
    "print(\"\\n#Covariance matrix of these two arrays is:\")\n",
    "print(np.cov(arr1, arr2))\n",
    "print(\"-\" * 100)\n"
   ]
  },
  {
   "cell_type": "markdown",
   "metadata": {},
   "source": [
    "Q14. Write a NumPy program to compute the cross-correlation of two\n",
    "given arrays ?\n",
    "\n",
    "    Sample OutputOriginal array1-\n",
    "    [0 1 3]\n",
    "    Original array1-\n",
    "    [2 4 5]\n",
    "    Cross-correlation of the said arrays-\n",
    "    [ [ 2.33333333 2.16666667 ]\n",
    "     [ 2.16666667 2.33333333 ] ]"
   ]
  },
  {
   "cell_type": "code",
   "execution_count": 15,
   "metadata": {},
   "outputs": [
    {
     "name": "stdout",
     "output_type": "stream",
     "text": [
      "#First array is:\n",
      "[0 1 3]\n",
      "\n",
      "#Second array is:\n",
      "[2 4 5]\n",
      "\n",
      "#Cross-correlation of these  two arrays is:\n",
      "[[2.33333333 2.16666667]\n",
      " [2.16666667 2.33333333]]\n",
      "----------------------------------------------------------------------------------------------------\n"
     ]
    }
   ],
   "source": [
    "arr1 = np.array([0, 1, 3])\n",
    "arr2 = np.array([2, 4, 5])\n",
    "\n",
    "print(\"#First array is:\")\n",
    "print(arr1)\n",
    "\n",
    "print(\"\\n#Second array is:\")\n",
    "print(arr2)\n",
    "\n",
    "print(\"\\n#Cross-correlation of these  two arrays is:\")\n",
    "print(np.cov(arr1, arr2))\n",
    "print(\"-\" * 100)\n"
   ]
  },
  {
   "cell_type": "markdown",
   "metadata": {},
   "source": [
    "Q15. Write the NumPy program to compute Pearson product-moment\n",
    "correlation coefficients of two given arrays?\n",
    "\n",
    "    Sample OutputOriginal array1-\n",
    "    [0 1 3]\n",
    "    Original array1-\n",
    "    [2 4 5]\n",
    "    Pearson product-moment correlation coefficients of the said arrays-\n",
    "    [[1. 0.92857143]\n",
    "    [0.92857143 1. ]]"
   ]
  },
  {
   "cell_type": "code",
   "execution_count": 16,
   "metadata": {},
   "outputs": [
    {
     "name": "stdout",
     "output_type": "stream",
     "text": [
      "#First array is:\n",
      "[0 1 3]\n",
      "\n",
      "#Second array is:\n",
      "[2 4 5]\n",
      "\n",
      "#Pearson product-moment correlation coefficients of these arrays are:\n",
      "[[1.         0.92857143]\n",
      " [0.92857143 1.        ]]\n",
      "----------------------------------------------------------------------------------------------------\n"
     ]
    }
   ],
   "source": [
    "arr1 = np.array([0, 1, 3])\n",
    "arr2 = np.array([2, 4, 5])\n",
    "\n",
    "print(\"#First array is:\")\n",
    "print(arr1)\n",
    "\n",
    "print(\"\\n#Second array is:\")\n",
    "print(arr2)\n",
    "\n",
    "print(\"\\n#Pearson product-moment correlation coefficients of these arrays are:\")\n",
    "print(np.corrcoef(arr1, arr2))\n",
    "print(\"-\" * 100)\n"
   ]
  },
  {
   "cell_type": "markdown",
   "metadata": {},
   "source": [
    "Q16. Write the python program to count the number of occurrences of\n",
    "each value in a given array of non-negative integers?\n",
    " \n",
    "Note: bincount() Function- It count the occurrence of each value in an array of the\n",
    "non- negative integers in the range of the array between the minimum and maximum values\n",
    "including the values that did not occur.\n",
    "\n",
    "    Sample OutputOriginal array-\n",
    "    [0, 1, 6, 1, 4, 1, 2, 2, 7]\n",
    "    Number of occurrences of each value in array-\n",
    "    [1 3 2 0 1 0 1 1]"
   ]
  },
  {
   "cell_type": "code",
   "execution_count": 17,
   "metadata": {},
   "outputs": [
    {
     "name": "stdout",
     "output_type": "stream",
     "text": [
      "#Original array is:\n",
      "[0 1 6 1 4 1 2 2 7]\n",
      "\n",
      "#Number of occurrences of each value in this array are:\n",
      "[1 3 2 0 1 0 1 1]\n",
      "----------------------------------------------------------------------------------------------------\n"
     ]
    }
   ],
   "source": [
    "arr = np.array([0, 1, 6, 1, 4, 1, 2, 2, 7])\n",
    "\n",
    "print(\"#Original array is:\")\n",
    "print(arr)\n",
    "\n",
    "print(\"\\n#Number of occurrences of each value in this array are:\")\n",
    "print(np.bincount(arr))\n",
    "print(\"-\" * 100)\n"
   ]
  },
  {
   "cell_type": "markdown",
   "metadata": {},
   "source": [
    "Q17. Write a Numpy program to compute the histogram of nums\n",
    "against the bins?\n",
    "\n",
    "    Sample Outputnums- [0.5 0.7 1. 1.2 1.3 2.1]\n",
    "    P a g e 29 | 44\n",
    "    bins- [0 1 2 3]\n",
    "    Result- (array([2, 3, 1], dtype=int64), array([0, 1, 2, 3]))"
   ]
  },
  {
   "cell_type": "code",
   "execution_count": 18,
   "metadata": {},
   "outputs": [
    {
     "name": "stdout",
     "output_type": "stream",
     "text": [
      "#Number array is:\n",
      "[0.5 0.7 1.  1.2 1.3 2.1]\n",
      "\n",
      "#Bin array is:\n",
      "[0 1 2 3]\n",
      "\n",
      "#The Result is:\n",
      "(array([2, 3, 1], dtype=int64), array([0, 1, 2, 3]))\n",
      "----------------------------------------------------------------------------------------------------\n"
     ]
    },
    {
     "data": {
      "text/plain": [
       "(array([2., 3., 1.]), array([0, 1, 2, 3]), <a list of 3 Patch objects>)"
      ]
     },
     "execution_count": 18,
     "metadata": {},
     "output_type": "execute_result"
    },
    {
     "data": {
      "image/png": "[encoded data removed]",
      "text/plain": [
       "<Figure size 432x288 with 1 Axes>"
      ]
     },
     "metadata": {
      "needs_background": "light"
     },
     "output_type": "display_data"
    }
   ],
   "source": [
    "num_arr = np.array([0.5, 0.7, 1., 1.2, 1.3, 2.1])\n",
    "bin_arr = np.array([0, 1, 2, 3])\n",
    "\n",
    "print(\"#Number array is:\")\n",
    "print(num_arr)\n",
    "\n",
    "print(\"\\n#Bin array is:\")\n",
    "print(bin_arr)\n",
    "\n",
    "print(\"\\n#The Result is:\")\n",
    "print(np.histogram(num_arr, bin_arr))\n",
    "print(\"-\" * 100)\n",
    "\n",
    "plt.hist(num_arr, bins=bin_arr)\n"
   ]
  },
  {
   "cell_type": "markdown",
   "metadata": {},
   "source": [
    "## Great Job!"
   ]
  }
 ],
 "metadata": {
  "kernelspec": {
   "display_name": "Python 3",
   "language": "python",
   "name": "python3"
  },
  "language_info": {
   "codemirror_mode": {
    "name": "ipython",
    "version": 3
   },
   "file_extension": ".py",
   "mimetype": "text/x-python",
   "name": "python",
   "nbconvert_exporter": "python",
   "pygments_lexer": "ipython3",
   "version": "3.7.6"
  }
 },
 "nbformat": 4,
 "nbformat_minor": 2
}
