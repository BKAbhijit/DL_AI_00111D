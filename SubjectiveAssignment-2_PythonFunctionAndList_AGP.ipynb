{
 "cells": [
  {
   "cell_type": "markdown",
   "metadata": {},
   "source": [
    "# Assignments"
   ]
  },
  {
   "cell_type": "markdown",
   "metadata": {},
   "source": [
    "Q1. Write the Python function to get a string made of 4 copies of the last\n",
    "two characters of the specified string (length must be at least 2).\n",
    "\n",
    "    Sample function and result :\n",
    "    insert-end ('Python') -> abababab\n",
    "    insert-end('Exercises') -> jkjkjkjk"
   ]
  },
  {
   "cell_type": "code",
   "execution_count": 1,
   "metadata": {},
   "outputs": [],
   "source": [
    "def substring_copies(string, last_n, copies):\n",
    "    if type(string) != str or len(string) < 2:\n",
    "        return None\n",
    "    last_n_chars = string[len(string)-last_n:]\n",
    "    return last_n_chars * copies\n",
    "\n",
    "\n",
    "assert substring_copies(\"Pythok\", 2, 2) == 'okok'\n",
    "assert substring_copies(\"Python\", 2, 4) == 'onononon'\n",
    "assert substring_copies(\"Excercises\", 2, 4) == 'eseseses'\n",
    "\n",
    "assert substring_copies(\"Excercises\", 3, 2) == 'sesses'\n",
    "assert substring_copies(\"Python\", 4, 3) == 'thonthonthon'\n",
    "assert substring_copies(\"\", 4, 3) == None\n",
    "assert substring_copies(4321, 4, 3) == None\n"
   ]
  },
  {
   "cell_type": "markdown",
   "metadata": {},
   "source": [
    "Q2. Write the python function to get a string made of its first three\n",
    "characters of a specified string. If the length of the string is less than 3\n",
    "then return the original string.\n",
    "    \n",
    "    Sample function and result :\n",
    "    first-three('ipy') -> ipy\n",
    "    first-three('python') -> pyt"
   ]
  },
  {
   "cell_type": "code",
   "execution_count": 34,
   "metadata": {},
   "outputs": [],
   "source": [
    "def substring(string, first_n):\n",
    "    if type(string) != str or (type(first_n) != int or first_n <= 0):\n",
    "        return None\n",
    "    \n",
    "    if len(string) < first_n:\n",
    "        return string\n",
    "    \n",
    "    return string[:first_n]\n",
    "\n",
    "\n",
    "assert substring(\"python\", 3) == 'pyt'\n",
    "assert substring(\"python\", 2) == 'py'\n",
    "assert substring(\"python\", 1) == 'p'\n",
    "assert substring(\"python\", 100) == 'python'\n",
    "assert substring(\"python\", 0) == None\n",
    "assert substring(\"python\", -1) == None\n",
    "assert substring(\"\", -1) == None\n"
   ]
  },
  {
   "cell_type": "markdown",
   "metadata": {},
   "source": [
    "Q3. Write the Python program to find smallest window that contains all\n",
    "characters of the given string?\n",
    "\n",
    "    Original Strings:\n",
    "    asdaewsqgtwwsa\n",
    "    Smallest window that contains all characters of the said string:\n",
    "    Daewsqgt"
   ]
  },
  {
   "cell_type": "code",
   "execution_count": 17,
   "metadata": {},
   "outputs": [
    {
     "name": "stdout",
     "output_type": "stream",
     "text": [
      "\n",
      "Input String:\n",
      "asdaewsqgtwwsa\n",
      "\n",
      "Smallest window that contains all characters of the said string:\n",
      "daewsqgt : (2, 9)\n"
     ]
    }
   ],
   "source": [
    "import itertools\n",
    "\n",
    "\n",
    "input_string = \"asdaewsqgtwwsa\"\n",
    "search_chars = \"asdaewsqgtwwsa\"\n",
    "\n",
    "#Remove duplicate characters from set of searching characters:\n",
    "search_chars_set = set(search_chars.strip().lower())\n",
    "search_chars = ''.join(str(ch) for ch in search_chars_set)\n",
    "\n",
    "#Create a list of sorted tuples containing index & searching character found in given input string:\n",
    "idx_char_list = \\\n",
    "    sorted([(idx, search_char)\n",
    "        for search_char in search_chars\n",
    "            for idx, each_char in enumerate(input_string) \n",
    "                if each_char == search_char])\n",
    "#print(idx_char_list)\n",
    "\n",
    "#Convert list of sorted tuples to dictionary with key: found_index & value: searching_character:\n",
    "#[sorted_dict.setdefault(idx, char) for idx, char in idx_char_list]\n",
    "#print(sorted_dict)\n",
    "\n",
    "#Convert list of sorted tuples to dictionary with key: searching_character & values: list of found_indexes: :\n",
    "char_idxs_dict = {}\n",
    "[char_idxs_dict.setdefault(char, []).append(idx) for idx, char in idx_char_list]\n",
    "#print(char_idxs_dict)\n",
    "\n",
    "shorted_distance = len(input_string)\n",
    "other_idx_list = []\n",
    "this_idx = -1\n",
    "matched_substring_dict = {}\n",
    "\n",
    "for curr_idx_list in list(char_idxs_dict.values()):\n",
    "    #print(curr_idx_list)\n",
    "    this_idx += 1\n",
    "    other_idx_list = list(char_idxs_dict.values())\n",
    "    other_idx_list.pop(this_idx)\n",
    "    other_idx_list = sorted(list(itertools.chain(*other_idx_list)))\n",
    "    #print(other_idx_list)\n",
    "\n",
    "    for i in range(len(curr_idx_list)):\n",
    "        for j in range(len(other_idx_list)):\n",
    "            curr_idx, other_idx = curr_idx_list[i], other_idx_list[j]\n",
    "            \n",
    "            if curr_idx - other_idx < 0:\n",
    "                substr = input_string[curr_idx:other_idx+1]\n",
    "            else:\n",
    "                substr = input_string[other_idx:curr_idx+1]\n",
    "\n",
    "            distance = (curr_idx - other_idx)\n",
    "            if distance < 0 and abs(distance) + 1 >= len(search_chars):\n",
    "                substring = input_string[curr_idx:other_idx+1]\n",
    "                #print(f\"({curr_idx}, {other_idx}): {substring}\")\n",
    "                \n",
    "                #Check if all search characters are found in a currently extracted substring:\n",
    "                if all([char in substring for char in search_chars_set]) \\\n",
    "                    and len(substring) <= shorted_distance:\n",
    "                    \n",
    "                    shorted_distance = min(len(substring), shorted_distance)\n",
    "                    idx_range = \"(\" + str(curr_idx) + \", \" + str(other_idx) + \")\"\n",
    "                    \n",
    "                    if len(matched_substring_dict) == 0: #when dict is empty.\n",
    "                        matched_substring_dict[idx_range] = substring\n",
    "                    elif len(substring) == len(list(matched_substring_dict.values())[0]): #when length matches.\n",
    "                        matched_substring_dict[idx_range] = substring\n",
    "                    else:\n",
    "                        del_key_list = []\n",
    "                        for key_idx, val_substr in matched_substring_dict.items(): #\n",
    "                            if len(substring) < len(val_substr):\n",
    "                                del_key_list.append(key_idx) #add all keys having val str greater len.\n",
    "                        [matched_substring_dict.pop(key) for key in del_key_list] #remove kv-pairs having val str greater len.\n",
    "                        matched_substring_dict[idx_range] = substring\n",
    "                        \n",
    "\n",
    "print(\"\\nInput String:\\n\" + input_string)\n",
    "print(\"\\nSmallest window that contains all characters of the said string:\")\n",
    "for ir, mss in matched_substring_dict.items(): #ir: index range & mss: matched substring\n",
    "    print(mss + \" : \" + ir)\n"
   ]
  },
  {
   "cell_type": "markdown",
   "metadata": {},
   "source": [
    "Q4. Write the Python program to count number of substrings from a\n",
    "given string of lowercase alphabets with exactly k distinct (given)\n",
    "characters?\n",
    "\n",
    "    Input a string (lowercase alphabets): wolf\n",
    "    Input k: 4\n",
    "    Number of substrings with exactly 4 distinct characters: 1"
   ]
  },
  {
   "cell_type": "code",
   "execution_count": 21,
   "metadata": {},
   "outputs": [
    {
     "name": "stdout",
     "output_type": "stream",
     "text": [
      "\n",
      "Substrings with exactly 4 distinct characters:\n",
      "['whoa', 'maso', 'oami', 'imas', 'hoam', 'asou']\n",
      "\n",
      "Number of substrings with exactly 4 distinct characters:\n",
      "6\n"
     ]
    }
   ],
   "source": [
    "input_string = \"whoamiimasoul\"\n",
    "k_value = 4\n",
    "\n",
    "unique_substrings = set([input_string[idx:idx+k_value] for idx in range(len(input_string) - k_value)])\n",
    "#print(unique_substrings)\n",
    "\n",
    "unique_char_substrings = [substring for substring in unique_substrings if(len(substring) == len(set(substring)))]\n",
    "\n",
    "print(\"\\nSubstrings with exactly 4 distinct characters:\")\n",
    "print(str(unique_char_substrings))\n",
    "print(\"\\nNumber of substrings with exactly 4 distinct characters:\")\n",
    "print(str(len(unique_char_substrings)))"
   ]
  },
  {
   "cell_type": "markdown",
   "metadata": {},
   "source": [
    "Q5. Write the Python program to count number of non-empty\n",
    "substrings of the given string?\n",
    "\n",
    "    Input a string: w3resource\n",
    "    Number of substrings:\n",
    "    55"
   ]
  },
  {
   "cell_type": "code",
   "execution_count": 13,
   "metadata": {},
   "outputs": [],
   "source": [
    "from itertools import permutations\n",
    "\n",
    "\n",
    "def permute(string):\n",
    "    if type(string) != str:\n",
    "         return -1\n",
    "    if len(string.strip()) == 0:\n",
    "        return 0\n",
    "\n",
    "    return len([string for string in permutations(string, len(string))])\n",
    "\n",
    "\n",
    "assert permute(\"w3resource\") == 3628800\n",
    "assert permute(\"abcde\") == 120\n",
    "assert permute(\"abcd\") == 24\n",
    "assert permute(\"abc\") == 6\n",
    "assert permute(\"ab\") == 2\n"
   ]
  },
  {
   "cell_type": "markdown",
   "metadata": {},
   "source": [
    "Q6. Write the Python program to count the number of strings where the\n",
    "string length is 2 or more, and first and last character are same\n",
    "from a given list of strings.\n",
    "\n",
    "    Sample List : ['abc', 'xyz', 'wxw', '1331']\n",
    "    Expected Result: 2"
   ]
  },
  {
   "cell_type": "code",
   "execution_count": 43,
   "metadata": {},
   "outputs": [],
   "source": [
    "def filter_list(str_list):\n",
    "    if len(str_list) == 0:\n",
    "        return None\n",
    "    return len([str for str in str_list if len(str) >= 2 and str[0] == str[-1]])\n",
    "\n",
    "assert filter_list(['abc', 'xyz', 'wxw', '1331']) == 2\n",
    "assert filter_list([]) == None\n",
    "assert filter_list(['zzz', 'adsasda', 'bb']) == 3\n",
    "assert filter_list(['zzza', 'adsasdag', 'bba']) == 0\n"
   ]
  },
  {
   "cell_type": "markdown",
   "metadata": {},
   "source": [
    "Q7. Write the Python program to get a list, sorted in increasing order by\n",
    "the last element in each tuple from the given list of non-empty\n",
    "tuples?\n",
    "\n",
    "    Sample List - [ (2, 5), (1, 2), (4, 4), (2, 3), (2, 1) ]\n",
    "    Expected Result - [ (2, 1), (1, 2), (2, 3), (4, 4), (2, 5) ]"
   ]
  },
  {
   "cell_type": "code",
   "execution_count": 46,
   "metadata": {},
   "outputs": [
    {
     "data": {
      "text/plain": [
       "[(2, 1), (1, 2), (2, 3), (4, 4), (2, 5)]"
      ]
     },
     "execution_count": 46,
     "metadata": {},
     "output_type": "execute_result"
    }
   ],
   "source": [
    "num_list = [ (2, 5), (1, 2), (4, 4), (2, 3), (2, 1) ]\n",
    "\n",
    "[(second, first) for first, second in sorted([(second, first) for first, second in num_list])]\n"
   ]
  },
  {
   "cell_type": "markdown",
   "metadata": {},
   "source": [
    "Q8. Write the Python program to remove duplicates from a list?"
   ]
  },
  {
   "cell_type": "code",
   "execution_count": 54,
   "metadata": {},
   "outputs": [
    {
     "name": "stdout",
     "output_type": "stream",
     "text": [
      "Using set: [2, 5, 8, 11, 21]\n",
      "\n",
      "Using dict: [2, 21, 5, 11, 8]\n"
     ]
    }
   ],
   "source": [
    "num_list = [2, 21, 5, 11, 8, 2, 5]\n",
    "\n",
    "#Using set: however, elements' order got disturbed:\n",
    "print(\"Using set: \" + str(list(set(num_list))))\n",
    "\n",
    "print()\n",
    "#Using dict: No change in elements' order: \n",
    "print(\"Using dict: \" + str(list(dict.fromkeys(num_list))))"
   ]
  },
  {
   "cell_type": "markdown",
   "metadata": {},
   "source": [
    "Q9. Write the Python program to find the list of words that are longer\n",
    "than n from a given list of words?"
   ]
  },
  {
   "cell_type": "code",
   "execution_count": 62,
   "metadata": {},
   "outputs": [],
   "source": [
    "def filter_str_list(str_list, str_len):\n",
    "    if str_len <= 0:\n",
    "        return None\n",
    "\n",
    "    return [string for string in str_list if len(string) > str_len]\n",
    "\n",
    "assert filter_str_list(['abcde', 'xyz', 'wxw', '1331'], 3) == ['abcde', '1331']\n",
    "assert filter_str_list([], 0) == None\n",
    "assert filter_str_list([], 1) == []\n",
    "assert filter_str_list(['a'], 1) == []\n",
    "assert filter_str_list([\"abcd\", \"qwerty\"], 0) == None\n",
    "assert filter_str_list([\"abcd\", \"qwerty\"], 10) == []\n"
   ]
  },
  {
   "cell_type": "markdown",
   "metadata": {},
   "source": [
    "Q10. Write the Python program to print a specified list after removing the\n",
    "0th, 4th, and 5th elements?\n",
    "    \n",
    "    Sample List - ['Red', 'Green', 'White', 'Black', 'Pink', 'Yellow']\n",
    "    Expected Output - ['Green', 'White', 'Black']"
   ]
  },
  {
   "cell_type": "code",
   "execution_count": 63,
   "metadata": {},
   "outputs": [
    {
     "data": {
      "text/plain": [
       "['Green', 'White', 'Black']"
      ]
     },
     "execution_count": 63,
     "metadata": {},
     "output_type": "execute_result"
    }
   ],
   "source": [
    "str_list = ['Red', 'Green', 'White', 'Black', 'Pink', 'Yellow']\n",
    "\n",
    "[str_list[idx] for idx in range(len(str_list)) if idx not in [0, 4, 5]]\n"
   ]
  },
  {
   "cell_type": "markdown",
   "metadata": {},
   "source": [
    "Q11. Write the Python program to generate all permutations of a list in\n",
    "Python?"
   ]
  },
  {
   "cell_type": "code",
   "execution_count": 25,
   "metadata": {},
   "outputs": [
    {
     "data": {
      "text/plain": [
       "[(1, 2, 3), (1, 3, 2), (2, 1, 3), (2, 3, 1), (3, 1, 2), (3, 2, 1)]"
      ]
     },
     "execution_count": 25,
     "metadata": {},
     "output_type": "execute_result"
    }
   ],
   "source": [
    "from itertools import permutations\n",
    "\n",
    "[permu for permu in permutations([1, 2, 3])]\n"
   ]
  },
  {
   "cell_type": "markdown",
   "metadata": {},
   "source": [
    "Q12. Write the Python program to convert a pair of values into a sorted\n",
    "unique array?\n",
    " \n",
    "    Original List- [ (1, 2), (3, 4), (1, 2), (5, 6), (7, 8), (1, 2), (3, 4), (3, 4), (7, 8), (9, 10) ]\n",
    "    Sorted Unique Data- [ 1, 2, 3, 4, 5, 6, 7, 8, 9, 10 ] \n"
   ]
  },
  {
   "cell_type": "code",
   "execution_count": 26,
   "metadata": {},
   "outputs": [
    {
     "data": {
      "text/plain": [
       "[1, 2, 3, 4, 5, 6, 7, 8, 9, 10]"
      ]
     },
     "execution_count": 26,
     "metadata": {},
     "output_type": "execute_result"
    }
   ],
   "source": [
    "tuple_list = [ (1, 2), (3, 4), (1, 2), (5, 6), (7, 8), (1, 2), (3, 4), (3, 4), (7, 8), (9, 10) ]\n",
    "\n",
    "resultant_list = []\n",
    "[resultant_list.extend(list(tupal)) for tupal in tuple_list]\n",
    "list(set(resultant_list))\n"
   ]
  },
  {
   "cell_type": "code",
   "execution_count": null,
   "metadata": {},
   "outputs": [],
   "source": [
    "#punct_marks = \"!\\\"#$%&'()*+,-./:;<=>?@[\\]^_`{|}~\"\n",
    "\n",
    "str_list = [\"what's\", \"up ?\", \"howdy!\", \"me_&_u\", \"mail@me.in\"]\n",
    "\n",
    "[char\n",
    "    for string in str_list\n",
    "        for char in string\n",
    "            if not (char.isspace() | char.isalpha() | char.isdigit())]\n"
   ]
  },
  {
   "cell_type": "markdown",
   "metadata": {},
   "source": [
    "## Great job!"
   ]
  }
 ],
 "metadata": {
  "kernelspec": {
   "display_name": "Python 3",
   "language": "python",
   "name": "python3"
  },
  "language_info": {
   "codemirror_mode": {
    "name": "ipython",
    "version": 3
   },
   "file_extension": ".py",
   "mimetype": "text/x-python",
   "name": "python",
   "nbconvert_exporter": "python",
   "pygments_lexer": "ipython3",
   "version": "3.7.6"
  },
  "widgets": {
   "application/vnd.jupyter.widget-state+json": {
    "state": {},
    "version_major": 2,
    "version_minor": 0
   }
  }
 },
 "nbformat": 4,
 "nbformat_minor": 2
}
