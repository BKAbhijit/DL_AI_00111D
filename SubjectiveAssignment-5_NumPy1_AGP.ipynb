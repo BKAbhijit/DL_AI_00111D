{
 "cells": [
  {
   "cell_type": "markdown",
   "metadata": {},
   "source": [
    "# Assignment"
   ]
  },
  {
   "cell_type": "code",
   "execution_count": 1,
   "metadata": {},
   "outputs": [],
   "source": [
    "import numpy as np"
   ]
  },
  {
   "cell_type": "markdown",
   "metadata": {},
   "source": [
    "Q1. Write the NumPy program to create a 2d array with 6 on the border\n",
    "and 0 inside?\n",
    "\n",
    "    Expected OutputOriginal array-\n",
    "    [ [6 6 6 6 6]\n",
    "     [ 6 6 6 6 6]\n",
    "     [ 6 6 6 6 6 ]\n",
    "    [ 6 6 6 6 6 ]\n",
    "    [ 6 6 6 6 ] ].\n",
    "    6 on the border and 0 inside in the array-\n",
    "    [[ 6 6 6 6 6]\n",
    "    [ 6 0 0 0 6]\n",
    "    [ 6 0 0 0 6]\n",
    "    [ 6 0 0 0 6]\n",
    "    [ 6 6 6 6 6]]."
   ]
  },
  {
   "cell_type": "code",
   "execution_count": 2,
   "metadata": {},
   "outputs": [
    {
     "name": "stdout",
     "output_type": "stream",
     "text": [
      "#Original Matrix:\n",
      "[[6 6 6 6 6]\n",
      " [6 6 6 6 6]\n",
      " [6 6 6 6 6]\n",
      " [6 6 6 6 6]\n",
      " [6 6 6 6 6]]\n",
      "\n",
      "#6 on the border and 0 inside in the array:\n",
      "[[6 6 6 6 6]\n",
      " [6 0 0 0 6]\n",
      " [6 0 0 0 6]\n",
      " [6 0 0 0 6]\n",
      " [6 6 6 6 6]]\n",
      "------------------------------\n"
     ]
    }
   ],
   "source": [
    "mat = np.arange(25, dtype=np.int32).reshape(5, 5)\n",
    "mat.fill(6)\n",
    "\n",
    "print(\"#Original Matrix:\")\n",
    "print(mat)\n",
    "\n",
    "new_mat = [0 if (0 not in (row, col) and (mat.shape[0]-1) not in (row, col)) else mat[row][col] \\\n",
    "     for row in np.arange(mat.shape[0]) for col in np.arange(mat.shape[1])]\n",
    "\n",
    "print(\"\\n#6 on the border and 0 inside in the array:\")\n",
    "print(np.array(new_mat).reshape(5, 5))\n",
    "print(\"-\" * 30)"
   ]
  },
  {
   "cell_type": "code",
   "execution_count": 3,
   "metadata": {},
   "outputs": [
    {
     "name": "stdout",
     "output_type": "stream",
     "text": [
      "#Original Matrix:\n",
      "[[6 6 6 6 6]\n",
      " [6 6 6 6 6]\n",
      " [6 6 6 6 6]\n",
      " [6 6 6 6 6]\n",
      " [6 6 6 6 6]]\n",
      "\n",
      "#6 on the border and 0 inside in the array:\n",
      "[[6 6 6 6 6]\n",
      " [6 0 0 0 6]\n",
      " [6 0 0 0 6]\n",
      " [6 0 0 0 6]\n",
      " [6 6 6 6 6]]\n",
      "------------------------------\n"
     ]
    }
   ],
   "source": [
    "mat = np.empty(25, dtype=np.int32).reshape(5, 5)\n",
    "mat.fill(6)\n",
    "\n",
    "print(\"#Original Matrix:\")\n",
    "print(mat)\n",
    "\n",
    "print(\"\\n#6 on the border and 0 inside in the array:\")\n",
    "mat[1:-1, 1:-1] = 0\n",
    "print(mat)\n",
    "print(\"-\" * 30)"
   ]
  },
  {
   "cell_type": "markdown",
   "metadata": {},
   "source": [
    "Q2. Write the NumPy program to create a 8x8 matrix and fill it with the\n",
    "checkerboard pattern?\n",
    "    \n",
    "    Checkerboard pattern-\n",
    "    [[3 9 3 9 3 9 3 9]\n",
    "    [9 3 9 3 9 3 9 3]\n",
    "    [3 9 3 9 3 9 3 9]\n",
    "    [9 3 9 3 9 3 9 3]\n",
    "    [3 9 3 9 3 9 3 9]\n",
    "    [9 3 9 3 9 3 9 3]\n",
    "    [3 9 3 9 3 9 3 9]\n",
    "    [9 3 9 3 9 3 9 3]]."
   ]
  },
  {
   "cell_type": "code",
   "execution_count": 4,
   "metadata": {},
   "outputs": [
    {
     "name": "stdout",
     "output_type": "stream",
     "text": [
      "#Checkerboard Pattern: \n",
      "[[9 3 9 3 9 3 9 3]\n",
      " [3 9 3 9 3 9 3 9]\n",
      " [9 3 9 3 9 3 9 3]\n",
      " [3 9 3 9 3 9 3 9]\n",
      " [9 3 9 3 9 3 9 3]\n",
      " [3 9 3 9 3 9 3 9]\n",
      " [9 3 9 3 9 3 9 3]\n",
      " [3 9 3 9 3 9 3 9]]\n",
      "------------------------------\n"
     ]
    }
   ],
   "source": [
    "arr = np.empty((8,8), dtype=np.int8)\n",
    "arr.fill(9)\n",
    "\n",
    "arr[1::2, ::2] = 3\n",
    "arr[::2, 1::2] = 3\n",
    "\n",
    "print(\"#Checkerboard Pattern: \\n\" + str(arr) + \"\\n\" + (\"-\" * 30))"
   ]
  },
  {
   "cell_type": "markdown",
   "metadata": {},
   "source": [
    "Q3. Write the NumPy program to create an empty and a full array.\n",
    " \n",
    "     Expected Output-\n",
    "    [[4.45057637e-308 1.78021527e-306 8.45549797e-307 1.37962049e-306]\n",
    "    [1.11260619e-306 1.78010255e-306 9.79054228e-307 4.45057637e-308]\n",
    "    [8.45596650e-307 9.34602321e-307 4.94065646e-322 0.00000000e+000]]\n",
    "    [[6 6 6]\n",
    "    [6 6 6]\n",
    "    [6 6 6]]\n"
   ]
  },
  {
   "cell_type": "code",
   "execution_count": 5,
   "metadata": {},
   "outputs": [
    {
     "name": "stdout",
     "output_type": "stream",
     "text": [
      "[[5.60806059e-316 3.16202013e-322 0.00000000e+000 0.00000000e+000]\n",
      " [0.00000000e+000 4.11519749e+179 1.73740188e-047 3.57822779e-061]\n",
      " [4.16074475e-061 9.04294668e-067 1.58848398e-047 1.21026853e-071]]\n",
      "\n",
      "[[6 6 6]\n",
      " [6 6 6]\n",
      " [6 6 6]]\n"
     ]
    }
   ],
   "source": [
    "mat1 = np.empty(12).reshape(3,-1)\n",
    "print(mat1)\n",
    "print()\n",
    "\n",
    "mat2 = np.zeros(9, dtype=np.int8).reshape(3, -1)\n",
    "mat2.fill(6)\n",
    "print(mat2)"
   ]
  },
  {
   "cell_type": "markdown",
   "metadata": {},
   "source": [
    "Q4. Write the NumPy program to convert the values of Centigrade\n",
    "degrees into the Fahrenheit degrees and the centigrade values are\n",
    "stored in the NumPy array.\n",
    "    \n",
    "    Sample Array -[0, 12, 45.21 ,34, 99.91]\n",
    "    Expected OutputValues in Fahrenheit degrees-\n",
    "    [ 0. 12. 45.21 34. 99.91]\n",
    "    Values in Centigrade degrees-\n",
    "    [-17.77777778 -11.11111111 7.33888889 1.11111111 37.72777778]"
   ]
  },
  {
   "cell_type": "code",
   "execution_count": 6,
   "metadata": {},
   "outputs": [
    {
     "name": "stdout",
     "output_type": "stream",
     "text": [
      "Values in Fahrenheit degrees:\n",
      "[ 0.   12.   45.21 34.   99.91]\n",
      "\n",
      "Values in Centigrade degrees:\n",
      "[-17.77777778 -11.11111111   7.33888889   1.11111111  37.72777778]\n"
     ]
    }
   ],
   "source": [
    "temp_fehr_array = np.array([0, 12, 45.21 ,34, 99.91])\n",
    "temp_centi_array = (temp_fehr_array - 32) * (5/9)\n",
    "#fehr = centi * (9/5) + 32\n",
    "\n",
    "print(\"Values in Fahrenheit degrees:\")\n",
    "print(temp_fehr_array)\n",
    "\n",
    "print(\"\\nValues in Centigrade degrees:\")\n",
    "print(temp_centi_array)"
   ]
  },
  {
   "cell_type": "markdown",
   "metadata": {},
   "source": [
    "Q5. Write the NumPy program to find the real and imaginary parts of an\n",
    "array of complex numbers?\n",
    "\n",
    "    Expected OutputOriginal array [ 1.00000000+0.70710678j, 0+0.70710678j]\n",
    "    Real part of the array-\n",
    "    [ 1. 0.70710678]\n",
    "    Imaginary part of the array-\n",
    "    [ 0. 0.70710678]"
   ]
  },
  {
   "cell_type": "code",
   "execution_count": 7,
   "metadata": {},
   "outputs": [
    {
     "name": "stdout",
     "output_type": "stream",
     "text": [
      "#Original array:\n",
      "[1.+0.70710678j 0.+0.70710678j]\n",
      "\n",
      "#Real part array:\n",
      "[1. 0.]\n",
      "#Imaginary part array:\n",
      "[0.70710678 0.70710678]\n"
     ]
    }
   ],
   "source": [
    "complex_arr = np.array([1.00000000+0.70710678j, 0+0.70710678j], dtype=np.complex)\n",
    "\n",
    "real_part_arr = np.array(complex_arr.real)\n",
    "imag_part_arr = np.array(complex_arr.imag)\n",
    "\n",
    "print(\"#Original array:\")\n",
    "print(complex_arr)\n",
    "\n",
    "print(\"\\n#Real part array:\")\n",
    "print(real_part_arr)\n",
    "\n",
    "print(\"#Imaginary part array:\")\n",
    "print(imag_part_arr)"
   ]
  },
  {
   "cell_type": "markdown",
   "metadata": {},
   "source": [
    "Q6. Write the NumPy program to test whether each element of a 1-D\n",
    "array is also present in the second array?\n",
    "\n",
    "    Expected OutputArray1: [ 0 10 20 40 60]\n",
    "    Array2: [0, 40]\n",
    "    Compare each element of array1 and array2\n",
    "    [ True False False True False]\n"
   ]
  },
  {
   "cell_type": "code",
   "execution_count": 8,
   "metadata": {},
   "outputs": [
    {
     "name": "stdout",
     "output_type": "stream",
     "text": [
      "#Source Array:\n",
      "[ 0 10 20 40 60]\n",
      "\n",
      "#Search-For Array:\n",
      "[ 0 40]\n",
      "\n",
      "#Compare each element of array1 and array2:\n",
      "[ True False False  True False]\n"
     ]
    }
   ],
   "source": [
    "arr1 = np.array([0, 10, 20, 40, 60])\n",
    "arr2 = np.array([0, 40])\n",
    "\n",
    "isfound_bool_arr = np.in1d(arr1, arr2)\n",
    "\n",
    "print(\"#Source Array:\")\n",
    "print(arr1)\n",
    "\n",
    "print(\"\\n#Search-For Array:\")\n",
    "print(arr2)\n",
    "\n",
    "print(\"\\n#Compare each element of array1 and array2:\")\n",
    "print(isfound_bool_arr)"
   ]
  },
  {
   "cell_type": "markdown",
   "metadata": {},
   "source": [
    "Q7. Write the NumPy program to find common values between two\n",
    "arrays?\n",
    "    \n",
    "    Expected OutputArray1: [ 0 10 20 40 60]\n",
    "    Array2: [10, 30, 40]\n",
    "    Common values between two arrays-\n",
    "    [10 40]"
   ]
  },
  {
   "cell_type": "code",
   "execution_count": 9,
   "metadata": {},
   "outputs": [
    {
     "name": "stdout",
     "output_type": "stream",
     "text": [
      "#First Array:\n",
      "[ 0 10 20 40 60]\n",
      "\n",
      "#Second Array:\n",
      "[10 30 40]\n",
      "\n",
      "#Common elements of array1 and array2:\n",
      "[10 40]\n"
     ]
    }
   ],
   "source": [
    "arr1 = np.array([0, 10, 20, 40, 60])\n",
    "arr2 = np.array([10, 30, 40])\n",
    "\n",
    "common_arr = np.intersect1d(arr1, arr2)\n",
    "\n",
    "print(\"#First Array:\")\n",
    "print(arr1)\n",
    "\n",
    "print(\"\\n#Second Array:\")\n",
    "print(arr2)\n",
    "\n",
    "print(\"\\n#Common elements of array1 and array2:\")\n",
    "print(common_arr)"
   ]
  },
  {
   "cell_type": "markdown",
   "metadata": {},
   "source": [
    "Q8. Write the NumPy program to get the unique elements of an array?\n",
    "\n",
    "    Expected OutputOriginal array-\n",
    "    [10 10 20 20 30 30]\n",
    "    Unique elements of the above array-\n",
    "    [10 20 30]\n",
    "    P a g e 14 | 44\n",
    "    Original array-\n",
    "    [[1 1]\n",
    "    [2 3]]\n",
    "    Unique elements of the above array-\n",
    "    [1 2 3]"
   ]
  },
  {
   "cell_type": "code",
   "execution_count": 10,
   "metadata": {},
   "outputs": [
    {
     "name": "stdout",
     "output_type": "stream",
     "text": [
      "#Original Array:\n",
      "[10 10 20 20 30 30]\n",
      "\n",
      "#Unique elements of array:\n",
      "[10 20 30]\n"
     ]
    }
   ],
   "source": [
    "arr = np.array([10, 10, 20, 20, 30, 30])\n",
    "\n",
    "unique_arr = np.unique(arr)\n",
    "\n",
    "print(\"#Original Array:\")\n",
    "print(arr)\n",
    "\n",
    "print(\"\\n#Unique elements of array:\")\n",
    "print(unique_arr)"
   ]
  },
  {
   "cell_type": "markdown",
   "metadata": {},
   "source": [
    "Q9. Write the NumPy program to find the set exclusive-or of two arrays.\n",
    "Set exclusive-or will return the sorted, unique values that are in\n",
    "only one (not both) of the input arrays?\n",
    "\n",
    "    Array1- [ 0 10 20 40 60 80]\n",
    "    Array2- [10, 30, 40, 50, 70]\n",
    "    Unique values that are in only one (not both) of the input arrays-\n",
    "    [ 0 20 30 50 60 70 80]"
   ]
  },
  {
   "cell_type": "code",
   "execution_count": 11,
   "metadata": {},
   "outputs": [
    {
     "name": "stdout",
     "output_type": "stream",
     "text": [
      "#First Array:\n",
      "[ 0 10 20 40 60 80]\n",
      "\n",
      "#Second Array:\n",
      "[10 30 40 50 70]\n",
      "\n",
      "#eXclusive-OR (XOR) elements of array1 and array2:\n",
      "[ 0 20 30 50 60 70 80]\n"
     ]
    }
   ],
   "source": [
    "arr1 = np.array([0, 10, 20, 40, 60, 80])\n",
    "arr2 = np.array([10, 30, 40, 50, 70])\n",
    "\n",
    "xor_arr = np.setxor1d(arr1, arr2)\n",
    "\n",
    "print(\"#First Array:\")\n",
    "print(arr1)\n",
    "\n",
    "print(\"\\n#Second Array:\")\n",
    "print(arr2)\n",
    "\n",
    "print(\"\\n#eXclusive-OR (XOR) elements of array1 and array2:\")\n",
    "print(xor_arr)"
   ]
  },
  {
   "cell_type": "markdown",
   "metadata": {},
   "source": [
    "Q10. Write the NumPy program to test if all elements in an array\n",
    "evaluate to True ?\n",
    " \n",
    "Note: 0 evaluates to False in NumPy"
   ]
  },
  {
   "cell_type": "code",
   "execution_count": 12,
   "metadata": {},
   "outputs": [],
   "source": [
    "arr = np.array([1, 2, 5, 8, 3, 0])\n",
    "\n",
    "assert np.alltrue([1, 2, 5, 8, 3]) == True\n",
    "assert np.alltrue([1, 2, 5, 8, 3, 0]) == False\n"
   ]
  },
  {
   "cell_type": "markdown",
   "metadata": {},
   "source": [
    "Q11. Write the NumPy program to test whether any array element along\n",
    "the given axis evaluates to True?\n",
    " \n",
    "Note: 0 evaluates to False in NumPy"
   ]
  },
  {
   "cell_type": "code",
   "execution_count": 13,
   "metadata": {},
   "outputs": [],
   "source": [
    "arr = np.array([1, 2, 5, 8, 3, 0])\n",
    "\n",
    "assert np.any([1, 2, 5, 8, 3]) == True\n",
    "assert np.any([1, 2, 5, 8, 3, 0]) == True\n",
    "assert np.any([0, 0, 0]) == False\n",
    "assert np.any([0, 0, 0, 1]) == True\n",
    "assert np.any([0, 0, 0, -1]) == True\n"
   ]
  },
  {
   "cell_type": "markdown",
   "metadata": {},
   "source": [
    "Q12. Write the NumPy program to construct an array by repeating?\n",
    "\n",
    "    Sample array- [1, 2, 3, 4]\n",
    "    Expected OutputOriginal array\n",
    "    [1, 2, 3, 4]\n",
    "    Repeating 2 times\n",
    "    [1 2 3 4 1 2 3 4]\n",
    "    Repeating 3 times\n",
    "    [1 2 3 4 1 2 3 4 1 2 3 4]"
   ]
  },
  {
   "cell_type": "code",
   "execution_count": 14,
   "metadata": {},
   "outputs": [
    {
     "name": "stdout",
     "output_type": "stream",
     "text": [
      "#Original Array:\n",
      "[1 2 3 4]\n",
      "\n",
      "#Repeating 2 times:\n",
      "[1 2 3 4 1 2 3 4]\n",
      "\n",
      "#Repeating 3 times:\n",
      "[1 2 3 4 1 2 3 4 1 2 3 4]\n"
     ]
    }
   ],
   "source": [
    "arr = np.array([1, 2, 3, 4])\n",
    "\n",
    "tile2_arr = np.tile(arr, 2)\n",
    "tile3_arr = np.tile(arr, 3)\n",
    "\n",
    "print(\"#Original Array:\")\n",
    "print(arr)\n",
    "\n",
    "print(\"\\n#Repeating 2 times:\")\n",
    "print(tile2_arr)\n",
    "\n",
    "print(\"\\n#Repeating 3 times:\")\n",
    "print(tile3_arr)\n"
   ]
  },
  {
   "cell_type": "markdown",
   "metadata": {},
   "source": [
    "Q13. Write the NumPy program to find the indices of the maximum and\n",
    "minimum values with the given axis of an array?\n",
    "\n",
    "    Original array- [1 2 3 4 5 6]\n",
    "    Maximum Values- 5\n",
    "    Minimum Values- 0"
   ]
  },
  {
   "cell_type": "code",
   "execution_count": 15,
   "metadata": {},
   "outputs": [],
   "source": [
    "arr1 = np.array([1, 2, 3, 4, 5, 6])\n",
    "arr2 = np.array([11, 22, 3])\n",
    "arr2d = np.array([[3, 5, 1],[11, 22, 3]], ndmin=2)\n",
    "\n",
    "#For 1D Array:\n",
    "assert np.argmax(arr1) == 5 and np.argmin(arr1) == 0\n",
    "assert np.argmax(arr2) == 1 and np.argmin(arr2) == 2\n",
    "\n",
    "#For 2D Array:\n",
    "assert np.unravel_index(np.argmax(arr2d), arr2d.shape) == (1, 1)\n",
    "assert np.unravel_index(np.argmin(arr2d), arr2d.shape) == (0, 2)\n",
    "#OR\n",
    "assert np.unravel_index(arr2d.argmax(), arr2d.shape) == (1, 1)\n",
    "assert np.unravel_index(arr2d.argmin(), arr2d.shape) == (0, 2)\n"
   ]
  },
  {
   "cell_type": "markdown",
   "metadata": {},
   "source": [
    "Q14. Write the NumPy program compare two arrays using numpy?\n",
    "\n",
    "    Array a- [1 2]\n",
    "    Array b- [4 5]\n",
    "    a > b\n",
    "    [False False]\n",
    "    a >= b\n",
    "    [False False]\n",
    "    a < b\n",
    "    [ True True]\n",
    "    a <= b\n",
    "    [ True True]\n"
   ]
  },
  {
   "cell_type": "code",
   "execution_count": 16,
   "metadata": {},
   "outputs": [
    {
     "name": "stdout",
     "output_type": "stream",
     "text": [
      "#First Array:\n",
      "[1 2]\n",
      "\n",
      "#Second Array:\n",
      "[4 5]\n",
      "\n",
      "#Result of arr1 < arr2:\n",
      "[ True  True]\n",
      "\n",
      "#Result of arr1 <= arr2:\n",
      "[ True  True]\n",
      "\n",
      "#Result of arr1 > arr2:\n",
      "[False False]\n",
      "\n",
      "#Result of arr1 >= arr2:\n",
      "[False False]\n"
     ]
    }
   ],
   "source": [
    "arr1 = np.array([1, 2])\n",
    "arr2 = np.array([4, 5])\n",
    "\n",
    "print(\"#First Array:\")\n",
    "print(arr1)\n",
    "\n",
    "print(\"\\n#Second Array:\")\n",
    "print(arr2)\n",
    "\n",
    "print(\"\\n#Result of arr1 < arr2:\")\n",
    "print(arr1 < arr2)\n",
    "\n",
    "print(\"\\n#Result of arr1 <= arr2:\")\n",
    "print(arr1 <= arr2)\n",
    "\n",
    "print(\"\\n#Result of arr1 > arr2:\")\n",
    "print(arr1 > arr2)\n",
    "\n",
    "print(\"\\n#Result of arr1 >= arr2:\")\n",
    "print(arr1 >= arr2)\n"
   ]
  },
  {
   "cell_type": "markdown",
   "metadata": {},
   "source": [
    "Q15. Write the NumPy program to sort an along the first, last axis of an\n",
    "array?\n",
    "\n",
    "    Sample array- [[2,5],[4,4]]\n",
    "    Expected OutputOriginal array:\n",
    "    [[4 6]\n",
    "    [2 1]]\n",
    "    Sort along the first axis:\n",
    "    [[2 1]\n",
    "    [4 6]]\n",
    "    Sort along the last axis-\n",
    "    [[1 2]\n",
    "    [4 6]]"
   ]
  },
  {
   "cell_type": "code",
   "execution_count": 17,
   "metadata": {},
   "outputs": [
    {
     "name": "stdout",
     "output_type": "stream",
     "text": [
      "#Original Array:\n",
      "[[2 8 4]\n",
      " [1 9 3]]\n",
      "\n",
      "#Sorted Array on first axis i.e. X-axis means row-wise sorting:\n",
      "[[1 8 3]\n",
      " [2 9 4]]\n",
      "\n",
      "#Sorted Array on second/last axis i.e. Y-axis means column-wise sorting:\n",
      "[[2 4 8]\n",
      " [1 3 9]]\n"
     ]
    }
   ],
   "source": [
    "arr = np.array([[2, 8, 4],[1, 9, 3]])\n",
    "\n",
    "sorted_on_x_axis = np.sort(arr, axis=0) #0: first axis i.e. X axis i.e. \n",
    "sorted_on_y_axis = np.sort(arr, axis=1) #1 or -1: second/last axis i.e. Y axis.\n",
    "\n",
    "print(\"#Original Array:\")\n",
    "print(arr)\n",
    "\n",
    "print(\"\\n#Sorted Array on first axis i.e. X-axis means row-wise sorting:\")\n",
    "print(sorted_on_x_axis)\n",
    "\n",
    "print(\"\\n#Sorted Array on second/last axis i.e. Y-axis means column-wise sorting:\")\n",
    "print(sorted_on_y_axis)\n"
   ]
  },
  {
   "cell_type": "markdown",
   "metadata": {},
   "source": [
    "Q16. Write the NumPy program to sort pairs of first name and last name\n",
    "return their indices (first by last name, then by first name).\n",
    "\n",
    "    first_names - ( Betsey, Shelley, Lanell, Genesis, Margery )\n",
    "    last_names - ( Battle, Brien, Plotner, Stahl, Woolum )\n",
    "    Expected Output-\n",
    "    [1 3 2 4 0]"
   ]
  },
  {
   "cell_type": "code",
   "execution_count": 18,
   "metadata": {},
   "outputs": [
    {
     "name": "stdout",
     "output_type": "stream",
     "text": [
      "#First Names Array:\n",
      "['Betsey' 'Shelley' 'Lanell' 'Genesis' 'Margery']\n",
      "\n",
      "#Last Names Array:\n",
      "['Battle' 'Brien' 'Plotner' 'Stahl' 'Woolum']\n",
      "\n",
      "#Sorted Array w.r.t. (Last Name, First Name) Tuples:\n",
      "[0 3 2 4 1]\n"
     ]
    }
   ],
   "source": [
    "fname_arr = np.array(['Betsey', 'Shelley', 'Lanell', 'Genesis', 'Margery'], dtype=np.object)\n",
    "lname_arr = np.array(['Battle', 'Brien', 'Plotner', 'Stahl', 'Woolum'], dtype=np.object)\n",
    "\n",
    "sorted_arr = np.lexsort((lname_arr, fname_arr))\n",
    "\n",
    "print(\"#First Names Array:\")\n",
    "print(fname_arr)\n",
    "\n",
    "print(\"\\n#Last Names Array:\")\n",
    "print(lname_arr)\n",
    "\n",
    "print(\"\\n#Sorted Array w.r.t. (Last Name, First Name) Tuples:\")\n",
    "print(sorted_arr)"
   ]
  },
  {
   "cell_type": "markdown",
   "metadata": {},
   "source": [
    "Q17. Write the NumPy program to get the values and indices of the\n",
    "elements that are bigger than 10 in the given array?\n",
    "\n",
    "    Original array-\n",
    "    [[ 0 10 20]\n",
    "    [20 30 40]]\n",
    "    Values bigger than 10 = [20 20 30 40]\n",
    "    Their indices are (array([0, 1, 1, 1]), array([2, 0, 1, 2]))"
   ]
  },
  {
   "cell_type": "code",
   "execution_count": 19,
   "metadata": {},
   "outputs": [
    {
     "name": "stdout",
     "output_type": "stream",
     "text": [
      "#Original Array:\n",
      "[[ 0 10 20]\n",
      " [20 30 40]]\n",
      "\n",
      "#Array with elements > 10:\n",
      "[20 20 30 40]\n",
      "\n",
      "#Their (x,y) indices are:\n",
      "[(0, 2), (1, 0), (1, 1), (1, 2)]\n"
     ]
    }
   ],
   "source": [
    "arr2d = np.array([[0, 10, 20], [20, 30, 40]])\n",
    "gt_number = 10\n",
    "\n",
    "matched_arr = arr2d[arr2d > 10]\n",
    "\n",
    "idx_tuple = np.nonzero(arr2d > 10)\n",
    "row1_idx_arr, row2_idx_arr = idx_tuple[0], idx_tuple[1]\n",
    "\n",
    "print(\"#Original Array:\")\n",
    "print(arr2d)\n",
    "\n",
    "print(\"\\n#Array with elements > 10:\")\n",
    "print(matched_arr)\n",
    "\n",
    "print(\"\\n#Their (x,y) indices are:\")\n",
    "print([x_y for x_y in zip(row1_idx_arr, row2_idx_arr)])\n"
   ]
  },
  {
   "cell_type": "markdown",
   "metadata": {},
   "source": [
    "Q18. Write the NumPy program to find the memory size of a NumPy\n",
    "array?\n",
    "\n",
    "    Expected Output128 bytes\n"
   ]
  },
  {
   "cell_type": "code",
   "execution_count": 20,
   "metadata": {},
   "outputs": [
    {
     "name": "stdout",
     "output_type": "stream",
     "text": [
      "\n",
      "#Array(size:6, type:float32) consumes 24 bytes of memory.\n",
      "\n",
      "#Array(size:5, type:float64) consumes 40 bytes of memory.\n",
      "\n",
      "#Array(size:3, type:int16) consumes 6 bytes of memory.\n",
      "\n",
      "#Array(size:4, type:int8) consumes 4 bytes of memory.\n",
      "\n",
      "#Array(size:2, type:int64) consumes 16 bytes of memory.\n",
      "\n",
      "#Array(size:5, type:bool) consumes 5 bytes of memory.\n",
      "\n",
      "#Array(size:1, type:complex128) consumes 16 bytes of memory.\n"
     ]
    }
   ],
   "source": [
    "arr_6_f32 = np.empty((2,3), dtype=np.float32)\n",
    "arr_5_f64 = np.empty(5, dtype=np.float64)\n",
    "arr_3_i16 = np.empty(3, dtype=np.int16)\n",
    "arr_4_i8 = np.empty(4, dtype=np.int8)\n",
    "arr_2_i64 = np.empty(2, dtype=np.int64)\n",
    "arr_5_bool = np.empty(5, dtype=np.bool)\n",
    "arr_1_complex = np.empty(1, dtype=np.complex)\n",
    "\n",
    "arr_list = [arr_6_f32, arr_5_f64, arr_3_i16, arr_4_i8, arr_2_i64, arr_5_bool, arr_1_complex]\n",
    "\n",
    "output_string_template = \"\\n#Array(size:{}, type:{}) consumes {} bytes of memory.\"\n",
    "\n",
    "for arr in arr_list:\n",
    "    arr = np.array(arr)\n",
    "    print(output_string_template.format(arr.size, arr.dtype, (arr.size * arr.itemsize)))\n"
   ]
  },
  {
   "cell_type": "markdown",
   "metadata": {},
   "source": [
    "## Great Job!"
   ]
  }
 ],
 "metadata": {
  "kernelspec": {
   "display_name": "Python 3",
   "language": "python",
   "name": "python3"
  },
  "language_info": {
   "codemirror_mode": {
    "name": "ipython",
    "version": 3
   },
   "file_extension": ".py",
   "mimetype": "text/x-python",
   "name": "python",
   "nbconvert_exporter": "python",
   "pygments_lexer": "ipython3",
   "version": "3.7.6"
  }
 },
 "nbformat": 4,
 "nbformat_minor": 2
}
