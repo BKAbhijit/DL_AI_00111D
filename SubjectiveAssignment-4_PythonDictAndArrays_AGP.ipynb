{
 "cells": [
  {
   "cell_type": "markdown",
   "metadata": {},
   "source": [
    "# Assignment"
   ]
  },
  {
   "cell_type": "markdown",
   "metadata": {},
   "source": [
    "Q1. Write the Python program to create an instance of an OrderedDict \n",
    "using the given dictionary and sort dictionary during the\n",
    "creation and print members of the dictionary in reverse order?\n",
    "\n",
    "    Expected OutputAngola 244.\n",
    "    Andorra 376.\n",
    "    Algeria 213.\n",
    "    Afghanistan 93.\n",
    "    Albania 355.\n",
    "    In reverse orderAlbania 355.\n",
    "    Afghanistan 93.\n",
    "    Algeria 213.\n",
    "    Andorra 376.\n",
    "    Angola 244."
   ]
  },
  {
   "cell_type": "code",
   "execution_count": 1,
   "metadata": {},
   "outputs": [
    {
     "name": "stdout",
     "output_type": "stream",
     "text": [
      "#Before sorting, the dictionary:\n",
      "Angola 244\n",
      "Andorra 376\n",
      "Algeria 213\n",
      "Afghanistan 93\n",
      "Albania 355\n",
      "---------------------\n",
      "#After descended sorting, the dictionary:\n",
      "Andorra 376\n",
      "Albania 355\n",
      "Angola 244\n",
      "Algeria 213\n",
      "Afghanistan 93\n",
      "---------------------\n",
      "\n"
     ]
    }
   ],
   "source": [
    "from collections import OrderedDict\n",
    "\n",
    "\n",
    "dict1 = {'Angola': 244.,\n",
    "        'Andorra': 376.,\n",
    "        'Algeria': 213.,\n",
    "        'Afghanistan': 93.,\n",
    "        'Albania': 355.}\n",
    "\n",
    "print(\"#Before sorting, the dictionary:\")\n",
    "[print(f\"{key} {val:.0f}\") for key, val in dict1.items()]\n",
    "print(\"-\" * 21)\n",
    "\n",
    "print(\"#After descended sorting, the dictionary:\")\n",
    "ord_dict = OrderedDict(sorted(dict1.items(), key = lambda kv:(kv[1], kv[0])))\n",
    "[print(f\"{key} {val:.0f}\") for key, val in reversed(ord_dict.items())]\n",
    "print(\"-\" * 21)\n",
    "print()\n"
   ]
  },
  {
   "cell_type": "markdown",
   "metadata": {},
   "source": [
    "Q2. Write the Python program to compare two unordered lists (not\n",
    "sets)?\n",
    " \n",
    "     Expected Output: False"
   ]
  },
  {
   "cell_type": "code",
   "execution_count": 2,
   "metadata": {},
   "outputs": [],
   "source": [
    "list1 = [8, 5, 9, 2, 4]\n",
    "list2 = [9, 4, 8, 5, 2]\n",
    "list3 = [9, 4, 8, 1, 5, 2]\n",
    "\n",
    "\n",
    "assert (set(list1) == set(list2)) == True\n",
    "assert (set(list1) == set(list3)) == False\n"
   ]
  },
  {
   "cell_type": "markdown",
   "metadata": {},
   "source": [
    "Q3. Write the Python program to get an array buffer information?\n",
    "\n",
    "    Expected OutputArray buffer start address in memory and number of elements.\n",
    "    (25855056, 2)\n"
   ]
  },
  {
   "cell_type": "code",
   "execution_count": 3,
   "metadata": {},
   "outputs": [
    {
     "name": "stdout",
     "output_type": "stream",
     "text": [
      "(84104776, 3)\n",
      "(0x5035648, 3)\n",
      "---------------------\n"
     ]
    }
   ],
   "source": [
    "num_list = [5, 9, 2]\n",
    "\n",
    "print(f\"({id(num_list)}, {len(num_list)})\") #Memory Address as long.\n",
    "print(f\"({hex(id(num_list))}, {len(num_list)})\") #Memory Address in hexa.\n",
    "print(\"-\" * 21)\n"
   ]
  },
  {
   "cell_type": "markdown",
   "metadata": {},
   "source": [
    "Q4. Write the Python program to convert an array to an array of\n",
    "machine values and return the bytes representation?\n",
    "\n",
    "    Expected OutputOriginal arrayA1: array('i', [1, 2, 3, 4, 5, 6])\n",
    "    Array of bytes:\n",
    "    b'010000000200000003000000040000000500000006000000"
   ]
  },
  {
   "cell_type": "code",
   "execution_count": 4,
   "metadata": {},
   "outputs": [
    {
     "name": "stdout",
     "output_type": "stream",
     "text": [
      "000000110000011000000010000000010000100100010000\n",
      "---------------------\n"
     ]
    }
   ],
   "source": [
    "def binary_string(number):\n",
    "    if type(number) != int:\n",
    "        return None\n",
    "    \n",
    "    number = abs(number)\n",
    "    bits_str = \"\"\n",
    "    \n",
    "    while number != 0:\n",
    "        bit = number % 2\n",
    "        bits_str = str(bit) + bits_str\n",
    "        number = int(number / 2)\n",
    "\n",
    "    return bits_str.zfill(8)\n",
    "\n",
    "\n",
    "def binary_list_string(num_list):\n",
    "    bits_list = [binary_string(num) for num in num_list]\n",
    "    bits_string = \"\"\n",
    "    return bits_string.join(bits_list)\n",
    "\n",
    "\n",
    "print(binary_list_string([3, 6, 2, 1, 9, 16]))\n",
    "print(\"-\" *21)\n"
   ]
  },
  {
   "cell_type": "markdown",
   "metadata": {},
   "source": [
    "Q5. Write the Python program to read a string and interpreting the\n",
    "string as an array of machine values?\n",
    "\n",
    "    Expected Outputarray1- array('i', [7, 8, 9, 10])\n",
    "    Bytes- b'0700000008000000090000000a000000'\n",
    "    array2- array('i', [7, 8, 9, 10])"
   ]
  },
  {
   "cell_type": "code",
   "execution_count": 5,
   "metadata": {},
   "outputs": [
    {
     "name": "stdout",
     "output_type": "stream",
     "text": [
      "0110000101110011011000110110100101101001\n",
      "---------------------\n"
     ]
    }
   ],
   "source": [
    "def get_bits_string(char):\n",
    "    if type(char) != str:\n",
    "        return None\n",
    "\n",
    "    number = ord(char)\n",
    "    bits_str = \"\"\n",
    "    \n",
    "    while number != 0:\n",
    "        bit = number % 2\n",
    "        bits_str = str(bit) + bits_str\n",
    "        number = int(number / 2)\n",
    "\n",
    "    return bits_str.zfill(8)\n",
    "\n",
    "\n",
    "def binary_sequence_string(string):\n",
    "    if type(string) != str:\n",
    "        return None\n",
    "    bits_list = [get_bits_string(char) for char in string]\n",
    "    bits_string = \"\"\n",
    "    return bits_string.join(bits_list)\n",
    "\n",
    "\n",
    "print(binary_sequence_string(\"ascii\"))\n",
    "print(\"-\" * 21)"
   ]
  },
  {
   "cell_type": "markdown",
   "metadata": {},
   "source": [
    "Q6. Write the Python program to push three items into the heap and\n",
    "return the smallest item from the heap. Also, return and pop the\n",
    "smallest item from the heap?\n",
    "    \n",
    "    Expected OutputItems in the heap-\n",
    "    ('VI', 1).\n",
    "    ('VII', 3).\n",
    "    ('VIII', 2).\n",
    "    ----------------------\n",
    "    The smallest item in the heap:\n",
    "    ('VI', 1).\n",
    "     ----------------------\n",
    "    Pop the smallest item in the heap:\n",
    "    ('VII', 2).\n",
    "    ('VIII', 3)."
   ]
  },
  {
   "cell_type": "code",
   "execution_count": 6,
   "metadata": {},
   "outputs": [
    {
     "name": "stdout",
     "output_type": "stream",
     "text": [
      "Items in the heap:\n",
      "('VI', 1)\n",
      "('VIII', 3)\n",
      "('VII', 2)\n",
      "---------------------\n",
      "The smallest item in the heap:\n",
      "('VI', 1)\n",
      "---------------------\n",
      "After popping the smallest item in the heap:\n",
      "('VII', 2)\n",
      "('VIII', 3)\n",
      "---------------------\n"
     ]
    }
   ],
   "source": [
    "import heapq\n",
    "\n",
    "\n",
    "val_list = [('VI', 1), ('VIII', 3), ('VII', 2)]\n",
    "\n",
    "heapq.heapify(val_list) \n",
    "\n",
    "print(\"Items in the heap:\")\n",
    "[print(val) for val in val_list]\n",
    "print(\"-\" * 21)\n",
    "\n",
    "print(\"The smallest item in the heap:\")\n",
    "print (heapq.heappop(val_list))\n",
    "print(\"-\" * 21)\n",
    "\n",
    "print(\"After popping the smallest item in the heap:\")\n",
    "[print(val) for val in val_list]\n",
    "print(\"-\" * 21)"
   ]
  },
  {
   "cell_type": "markdown",
   "metadata": {},
   "source": [
    "Q7. Write the Python program to locate the left insertion point for a\n",
    "specified value in sorted order?\n",
    "\n",
    "    Expected Output:\n",
    "    4\n",
    "    2"
   ]
  },
  {
   "cell_type": "code",
   "execution_count": 7,
   "metadata": {},
   "outputs": [
    {
     "name": "stdout",
     "output_type": "stream",
     "text": [
      "#Before inserting an element the heap is:\n",
      "2\n",
      "4\n",
      "5\n",
      "8\n",
      "9\n",
      "---------------------\n",
      "#After inserting an element 3 the heap is:\n",
      "2\n",
      "3\n",
      "4\n",
      "5\n",
      "8\n",
      "9\n",
      "---------------------\n"
     ]
    }
   ],
   "source": [
    "def insert(nlist, num):\n",
    "    nlist = sorted(nlist)\n",
    "    new_list = []\n",
    "    insert_at_idx = 0\n",
    "    for idx in range(len(nlist)):\n",
    "        if num < nlist[idx]:\n",
    "            insert_at_idx = idx\n",
    "            new_list.append(num)\n",
    "            break\n",
    "        new_list.append(nlist[idx])\n",
    "            \n",
    "    new_list.extend(nlist[insert_at_idx:])\n",
    "    return new_list\n",
    "\n",
    "\n",
    "num_list = sorted([9, 5, 4, 8, 2])\n",
    "new_number = 3\n",
    "\n",
    "\n",
    "print(\"#Before inserting an element the heap is:\")\n",
    "[print(num) for num in num_list]\n",
    "print(\"-\" * 21)\n",
    "num_list = insert(num_list, new_number)\n",
    "print(f\"#After inserting an element {new_number} the heap is:\")\n",
    "[print(num) for num in num_list]\n",
    "print(\"-\" * 21)\n"
   ]
  },
  {
   "cell_type": "markdown",
   "metadata": {},
   "source": [
    "Q8. Write the Python program to create the FIFO queue?\n",
    "\n",
    "    Expected Output:\n",
    "    0 1 2 3"
   ]
  },
  {
   "cell_type": "code",
   "execution_count": 8,
   "metadata": {},
   "outputs": [
    {
     "name": "stdout",
     "output_type": "stream",
     "text": [
      "\n",
      "#Initially queue is:\n",
      "[]\n",
      "\n",
      "#After adding 10, the queue is:\n",
      "[10]\n",
      "\n",
      "#After adding 20, the queue is:\n",
      "[10, 20]\n",
      "\n",
      "#After getting element None, the queue is:\n",
      "[20]\n",
      "\n",
      "#After getting element None, the queue is:\n",
      "[]\n",
      "\n",
      "#While trying to get element from the queue is:\n",
      "Error: Queue Underflow\n",
      "\n",
      "#After adding element 100, the queue is:\n",
      "[100]\n",
      "\n",
      "#After adding element 200, the queue is:\n",
      "[100, 200]\n",
      "\n",
      "#After adding element 300, the queue is:\n",
      "[100, 200, 300]\n",
      "\n",
      "#After adding element 400, the queue is:\n",
      "[100, 200, 300, 400]\n",
      "\n",
      "#After adding element 500, the queue is:\n",
      "[100, 200, 300, 400, 500]\n",
      "\n",
      "#While trying to add element 600 from the queue is:\n",
      "Error: Queue Overflow\n",
      "\n",
      "#After getting element None, the queue is:\n",
      "[200, 300, 400, 500]\n"
     ]
    }
   ],
   "source": [
    "class Queue:\n",
    "    def __init__(this, size):\n",
    "        this.size = size\n",
    "        this.queue = []\n",
    "        pass\n",
    "    \n",
    "    def add(this, element): #add element to rear-end\n",
    "        if len(this.queue) >= this.size:\n",
    "            print(\"Error: Queue Overflow\")\n",
    "            return None\n",
    "        this.queue.append(element)\n",
    "        return 1\n",
    "\n",
    "    def remove(this): #remove front-end element\n",
    "        if len(this.queue) == 0:\n",
    "            print(\"Error: Queue Underflow\")\n",
    "            return None\n",
    "        return this.queue.remove(this.queue[0])\n",
    "    \n",
    "    def read(this, position): #one-based indexing\n",
    "        if position < 1 or position > len(this.queue):\n",
    "            print(\"Error: Position out of range\")\n",
    "            return None\n",
    "        return this.queue[position - 1]\n",
    "\n",
    "    def __str__(this):\n",
    "        return str([ele for ele in this.queue])\n",
    "\n",
    "\n",
    "\n",
    "\n",
    "quatar = Queue(5)\n",
    "print(\"\\n#Initially queue is:\")\n",
    "print(quatar)\n",
    "\n",
    "quatar.add(10)\n",
    "print(f\"\\n#After adding {10}, the queue is:\")\n",
    "print(quatar)\n",
    "\n",
    "quatar.add(20)\n",
    "print(f\"\\n#After adding {20}, the queue is:\")\n",
    "print(quatar)\n",
    "\n",
    "num = quatar.remove()\n",
    "print(f\"\\n#After getting element {num}, the queue is:\")\n",
    "print(quatar)\n",
    "\n",
    "num = quatar.remove()\n",
    "print(f\"\\n#After getting element {num}, the queue is:\")\n",
    "print(quatar)\n",
    "\n",
    "print(f\"\\n#While trying to get element from the queue is:\")\n",
    "quatar.remove()\n",
    "\n",
    "quatar.add(100)\n",
    "print(f\"\\n#After adding element {100}, the queue is:\")\n",
    "print(quatar)\n",
    "\n",
    "quatar.add(200)\n",
    "print(f\"\\n#After adding element {200}, the queue is:\")\n",
    "print(quatar)\n",
    "\n",
    "quatar.add(300)\n",
    "print(f\"\\n#After adding element {300}, the queue is:\")\n",
    "print(quatar)\n",
    "\n",
    "quatar.add(400)\n",
    "print(f\"\\n#After adding element {400}, the queue is:\")\n",
    "print(quatar)\n",
    "\n",
    "quatar.add(500)\n",
    "print(f\"\\n#After adding element {500}, the queue is:\")\n",
    "print(quatar)\n",
    "\n",
    "print(f\"\\n#While trying to add element {600} from the queue is:\")\n",
    "quatar.add(600)\n",
    "\n",
    "num = quatar.remove()\n",
    "print(f\"\\n#After getting element {num}, the queue is:\")\n",
    "print(quatar)\n"
   ]
  },
  {
   "cell_type": "markdown",
   "metadata": {},
   "source": [
    "Q9. Write the Python program to calculate the harmonic sum of n-1.\n",
    " Note: The harmonic sum is the sum of reciprocals of the positive\n",
    "Integers?\n",
    "\n",
    "    Example:\n",
    "    1+1/2+1/3+1/4+1/5+...."
   ]
  },
  {
   "cell_type": "code",
   "execution_count": 9,
   "metadata": {},
   "outputs": [
    {
     "name": "stdout",
     "output_type": "stream",
     "text": [
      "#Harmonic Mean is: 2.28333\n",
      "--------------------------\n"
     ]
    }
   ],
   "source": [
    "def harmonic_mean(n_number):\n",
    "    if n_number <= 0:\n",
    "        return None\n",
    "    \n",
    "    hm = 0.0\n",
    "    for num in range(1, n_number + 1):\n",
    "        hm += 1 / num\n",
    "    \n",
    "    return round(hm, 5)\n",
    "\n",
    "print(f\"#Harmonic Mean is: {harmonic_mean(5)}\")\n",
    "print(\"-\" * 26)"
   ]
  },
  {
   "cell_type": "markdown",
   "metadata": {},
   "source": [
    "## Great Job!"
   ]
  }
 ],
 "metadata": {
  "kernelspec": {
   "display_name": "Python 3",
   "language": "python",
   "name": "python3"
  },
  "language_info": {
   "codemirror_mode": {
    "name": "ipython",
    "version": 3
   },
   "file_extension": ".py",
   "mimetype": "text/x-python",
   "name": "python",
   "nbconvert_exporter": "python",
   "pygments_lexer": "ipython3",
   "version": "3.7.6"
  },
  "widgets": {
   "application/vnd.jupyter.widget-state+json": {
    "state": {},
    "version_major": 2,
    "version_minor": 0
   }
  }
 },
 "nbformat": 4,
 "nbformat_minor": 2
}
