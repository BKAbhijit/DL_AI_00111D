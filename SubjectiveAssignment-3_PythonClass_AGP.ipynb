{
 "cells": [
  {
   "cell_type": "markdown",
   "metadata": {},
   "source": [
    "# Assignment"
   ]
  },
  {
   "cell_type": "markdown",
   "metadata": {},
   "source": [
    "Q1. Write the Python class to convert an integer to a roman numeral?"
   ]
  },
  {
   "cell_type": "code",
   "execution_count": 1,
   "metadata": {},
   "outputs": [],
   "source": [
    "class RomanConvertor:\n",
    "    def __init__(this):\n",
    "        this.roman_dict = {1000 : 'M', 900 : 'CM', 500 : 'D', 400 : 'CD',\n",
    "                            100 : 'C', 90 : 'XC', 50 : 'L', 40 : 'XL',\n",
    "                            10 : 'X', 9 : 'IX', 5 : 'V', 4 : 'IV' ,\n",
    "                            1: 'I'}\n",
    "\n",
    "    def num2rom(this, number):\n",
    "        if type(number) != int or number == 0:\n",
    "            return None\n",
    "        \n",
    "        roman_string = \"\"\n",
    "        idx = 0\n",
    "        while number > 0:\n",
    "            for denom in this.roman_dict.keys():\n",
    "                #print(denom)\n",
    "                division = number // denom\n",
    "                if number == 0:\n",
    "                    break\n",
    "                temp_string = this.roman_dict.get(denom) * division\n",
    "                roman_string += temp_string\n",
    "                number %= denom\n",
    "        return roman_string\n",
    "    \n",
    "    def rom2num(this, roman_string):\n",
    "        if type(roman_string) != str or len(roman_string.strip()) == 0:\n",
    "            return None\n",
    "        \n",
    "        roman_string = roman_string.upper()\n",
    "        number = 0\n",
    "        idx = 0\n",
    "        roman_char1_dict = {rom : num for (num, rom) in this.roman_dict.items() if len(rom) == 1}\n",
    "        roman_char2_dict = {rom : num for (num, rom) in this.roman_dict.items() if len(rom) == 2}\n",
    "        #print(roman_char1_dict)\n",
    "        #print(roman_char2_dict)\n",
    "        rs_length = len(roman_string)\n",
    "\n",
    "        while idx < rs_length:\n",
    "            num = roman_char2_dict.get(roman_string[idx:idx+2])\n",
    "            if num != None:\n",
    "                number += num\n",
    "                idx += 2\n",
    "            else:\n",
    "                number += roman_char1_dict.get(roman_string[idx])\n",
    "                idx += 1\n",
    "        return number\n",
    "\n",
    "\n",
    "rc = RomanConvertor()\n",
    "assert rc.num2rom(998) == \"CMXCVIII\"\n",
    "assert rc.num2rom(4000) == \"M\" * 4\n",
    "assert rc.num2rom(19) == \"XIX\"\n",
    "assert rc.num2rom(999) == \"CMXCIX\"\n",
    "assert rc.num2rom(0) == None\n",
    "assert rc.num2rom(\"\") == None\n"
   ]
  },
  {
   "cell_type": "markdown",
   "metadata": {},
   "source": [
    "Q2 Write the Python class to convert a Roman numeral to an integer?\n"
   ]
  },
  {
   "cell_type": "code",
   "execution_count": 2,
   "metadata": {},
   "outputs": [],
   "source": [
    "#Please check the above class RomanConvertor.\n",
    "assert rc.rom2num(\"CMXCIX\") == 999\n",
    "assert rc.rom2num('MMMCMLXXXVI') == 3986\n",
    "assert rc.rom2num('MMMM') == 4000\n",
    "assert rc.rom2num('C') == 100\n"
   ]
  },
  {
   "cell_type": "markdown",
   "metadata": {},
   "source": [
    "Q3. Write the Python class to find the validity of the string of the\n",
    "parentheses, '(', ')', '{', '}', '[' and '] and the brackets must be closed\n",
    "in the correct order, example - \"()\" and \"()[]{}\" are valid but \"[)\",\n",
    "\"({[)]\" and \"{{{\" are invalid.\n"
   ]
  },
  {
   "cell_type": "code",
   "execution_count": 3,
   "metadata": {},
   "outputs": [],
   "source": [
    "from collections import defaultdict\n",
    "\n",
    "#Utility Class: Stack\n",
    "class Stack:\n",
    "    def __init__(this):\n",
    "        this.stack = []\n",
    "    \n",
    "    def push(this, char):\n",
    "        if type(char) != str and len(char) != 1:\n",
    "            return None\n",
    "        this.stack.insert(0, char)\n",
    "    \n",
    "    def pop(this):\n",
    "        if len(this.stack) == 0:\n",
    "            print(\"Error: Stack is underflow.\")\n",
    "        return this.stack.pop()\n",
    "    \n",
    "    def isempty(this):\n",
    "        return len(this.stack) == 0\n",
    "\n",
    "    def __str__(this):\n",
    "        return str(this.stack)\n",
    "\n",
    "\n",
    "#Business Logic Class: StringValidator\n",
    "class StringValidator:\n",
    "    def __init__(this, string):\n",
    "        this.string = string\n",
    "    \n",
    "    def isvalid(this):\n",
    "        if type(this.string) != str:\n",
    "            return False\n",
    "        \n",
    "        this.string = this.string.strip()\n",
    "        \n",
    "        if len(this.string) == 0:\n",
    "            return True\n",
    "        \n",
    "        if len([char for char in this.string if char not in \"()[]{}\"]) > 0:\n",
    "            return False\n",
    "        \n",
    "        if len(this.string) % 2 == 1:\n",
    "            return False\n",
    "        \n",
    "        stk = Stack()\n",
    "        [stk.push(char) for char in this.string]\n",
    "        #print(stk)\n",
    "\n",
    "        bracket_dict = { '[]' : (0, 0), '{}' : (0, 0), '()' : (0, 0) }\n",
    "        while not stk.isempty():\n",
    "            char = stk.pop()\n",
    "            #print(\"popped char: \" + char)\n",
    "            for (bracket_pair, count_tuple) in bracket_dict.items():\n",
    "                #print(char + \" = \" + bracket_pair + \" : \" + str(count_tuple))\n",
    "                if char not in bracket_pair:\n",
    "                    continue\n",
    "                lc, rc = count_tuple\n",
    "                if bracket_pair.index(char) == 0:\n",
    "                    lc += 1\n",
    "                elif bracket_pair.index(char) == 1:\n",
    "                    rc += 1\n",
    "                \n",
    "                bracket_dict[bracket_pair] = (lc, rc)\n",
    "\n",
    "        for count_tuple in bracket_dict.values():\n",
    "            if count_tuple[0] != count_tuple[1]:\n",
    "                return False\n",
    "        return True\n",
    "\n",
    "\n",
    "#Test Cases:\n",
    "assert StringValidator(\"{{()[[}]]}\").isvalid() == True\n",
    "assert StringValidator(\"()\").isvalid() == True\n",
    "assert StringValidator(\"{}\").isvalid() == True\n",
    "assert StringValidator(\"[]\").isvalid() == True\n",
    "assert StringValidator(\"({[]})\").isvalid() == True\n",
    "\n",
    "assert StringValidator(\"{{[[(}]]\").isvalid() == False\n",
    "assert StringValidator(\"{{]()}][\").isvalid() == False\n",
    "assert StringValidator(\"{{[)(}]]}\").isvalid() == False\n"
   ]
  },
  {
   "cell_type": "markdown",
   "metadata": {},
   "source": [
    "Q4. Write the Python class to get all possible unique subsets from a set\n",
    "of distinct integers?\n",
    "\n",
    "    Input - [4, 5, 6]\n",
    "    Output - [[], [6], [5], [5, 6], [4], [4, 6], [4, 5], [4, 5, 6]]"
   ]
  },
  {
   "cell_type": "code",
   "execution_count": 4,
   "metadata": {},
   "outputs": [
    {
     "name": "stdout",
     "output_type": "stream",
     "text": [
      "[[], [4], [5], [6], [4, 5], [5, 6], [4, 5, 6]]\n",
      "[[4, 5, 6], [4, 5], [5, 6], [4], [5], [6], []]\n",
      "[[], [1], [2], [1, 2]]\n",
      "[[1, 2], [1], [2], []]\n"
     ]
    }
   ],
   "source": [
    "class ListProcessor:\n",
    "    def __init__(this, input_list):\n",
    "        this.input_list = input_list\n",
    "        pass\n",
    "\n",
    "    def get_unique_subsets_1(this):\n",
    "        output_list = [[]]\n",
    "        for size in range(1, len(this.input_list) + 1):\n",
    "            ctr = 0\n",
    "            for idx in range(len(this.input_list)):\n",
    "                if ctr < (len(this.input_list) + 1 - size):\n",
    "                    #print(str(input_list[idx:(idx+size)]), end=\", \")\n",
    "                    output_list.append(this.input_list[idx:(idx+size)])\n",
    "                    ctr += 1\n",
    "        return output_list\n",
    "\n",
    "    def get_unique_subsets_2(this):\n",
    "        output_list = []\n",
    "        for size in range(len(this.input_list) + 1, 0, -1):\n",
    "            ctr = 0\n",
    "            for idx in range(len(this.input_list)):\n",
    "                if ctr < (len(this.input_list) + 1 - size):\n",
    "                    #print(str(input_list[idx:(idx+size)]), end=\", \")\n",
    "                    output_list.append(this.input_list[idx:(idx+size)])\n",
    "                    ctr += 1\n",
    "        output_list.append([])\n",
    "        return output_list\n",
    "\n",
    "#Test Cases:\n",
    "int_list = [4, 5, 6]\n",
    "print(ListProcessor(int_list).get_unique_subsets_1())\n",
    "print(ListProcessor(int_list).get_unique_subsets_2())\n",
    "\n",
    "int_list = [1, 2]\n",
    "print(ListProcessor(int_list).get_unique_subsets_1())\n",
    "print(ListProcessor(int_list).get_unique_subsets_2())\n"
   ]
  },
  {
   "cell_type": "markdown",
   "metadata": {},
   "source": [
    "Q5. Write the Python class to find a pair of elements (indices of the two\n",
    "numbers) from a given array whose sum equals the specific target\n",
    "number?\n",
    "\n",
    "    Input: numbers- [10,20,10,40,50,60,70], target=50\n",
    "    Output- 3, 4"
   ]
  },
  {
   "cell_type": "code",
   "execution_count": 5,
   "metadata": {},
   "outputs": [],
   "source": [
    "class ListComputer:\n",
    "    def __init__(this, input_list):\n",
    "        this.input_list = input_list\n",
    "        pass\n",
    "\n",
    "    def get_index_pairs(this, target):\n",
    "        result_list = []\n",
    "        for idx in range(len(this.input_list) - 1):\n",
    "            for ctr in range(idx, len(this.input_list)):\n",
    "                if idx != ctr and (this.input_list[idx] + this.input_list[ctr]) == target:\n",
    "                    #print(f\"{idx}, {ctr}\")\n",
    "                    result_list.append((idx, ctr))\n",
    "        return result_list\n",
    "\n",
    "\n",
    "#Test Cases:\n",
    "num_list = [10, 20, 10, 40, 50, 60, 30, 70, 0, 0]\n",
    "target = 50\n",
    "assert ListComputer(num_list).get_index_pairs(target) == [(0, 3), (1, 6), (2, 3), (4, 8), (4, 9)]\n",
    "\n",
    "target = 0\n",
    "assert ListComputer(num_list).get_index_pairs(target) == [(8, 9)]\n"
   ]
  },
  {
   "cell_type": "markdown",
   "metadata": {},
   "source": [
    "Q6. Write the Python class to find the three elements that sum to zero\n",
    "from the set of n real numbers?\n",
    "\n",
    "    Input array- [-25, -10, -7, -3, 2, 4, 8, 10]\n",
    "    Output - [[-10, 2, 8], [-7, -3, 10]]\n"
   ]
  },
  {
   "cell_type": "code",
   "execution_count": 6,
   "metadata": {},
   "outputs": [],
   "source": [
    "class ListManipulator:\n",
    "    def __init__(this, input_list):\n",
    "        this.input_list = input_list\n",
    "        pass\n",
    "\n",
    "    def find_three_with_sum_0(this):\n",
    "        final_list = []\n",
    "        for first in range(len(this.input_list)):\n",
    "            for second in range(first+1, len(this.input_list)):\n",
    "                for third in range(second+1, len(this.input_list)):\n",
    "                    sum = this.input_list[first] + this.input_list[second] + this.input_list[third]\n",
    "                    if sum == 0:\n",
    "                        final_list.append([this.input_list[first], this.input_list[second], this.input_list[third]])\n",
    "        return final_list\n",
    "\n",
    "\n",
    "#Test Cases:\n",
    "number_list = [-25, -10, -7, -3, 2, 4, 8, 10]\n",
    "assert ListManipulator(number_list).find_three_with_sum_0() == [[-10, 2, 8], [-7, -3, 10]]\n",
    "\n",
    "number_list = [-25, -10, -7, -3, 2, 4, 8, 10, 0]\n",
    "assert ListManipulator(number_list).find_three_with_sum_0() == [[-10, 2, 8], [-10, 10, 0], [-7, -3, 10]]\n"
   ]
  },
  {
   "cell_type": "markdown",
   "metadata": {},
   "source": [
    "Q7. Write the Python class to implement pow(x, n)?"
   ]
  },
  {
   "cell_type": "code",
   "execution_count": 7,
   "metadata": {},
   "outputs": [],
   "source": [
    "class Math:\n",
    "    def __init__(this):\n",
    "        pass\n",
    "\n",
    "    def pow(this, base, index):\n",
    "        if type(base) != int or type(index) != int:\n",
    "            return None\n",
    "\n",
    "        if index < -1:\n",
    "            return 1 / sum([base * base for ctr in range(abs(index) - 1)])\n",
    "        elif index == -1:\n",
    "            return 1 / base\n",
    "        elif index == 0:\n",
    "            return 1\n",
    "        else: #if index > 0:\n",
    "            return sum([base * base for ctr in range(index - 1)])\n",
    "\n",
    "\n",
    "#Test Cases:\n",
    "assert Math().pow(2, 0) == 1\n",
    "assert Math().pow(2, -3) == 0.125\n",
    "assert Math().pow(2, 3) == 8\n",
    "assert Math().pow(-3, 2) == 9\n",
    "assert round(Math().pow(-3, -1), 2) == round(-0.33333, 2)\n"
   ]
  },
  {
   "cell_type": "markdown",
   "metadata": {},
   "source": [
    "Q8. Write the Python class which has two methods get_String and\n",
    "print_String. get_String accept the string from the user and \n",
    "print_String print the string in upper case."
   ]
  },
  {
   "cell_type": "code",
   "execution_count": 8,
   "metadata": {},
   "outputs": [
    {
     "name": "stdout",
     "output_type": "stream",
     "text": [
      "Enter a string: rimzim is my Baba's home.\n"
     ]
    },
    {
     "data": {
      "text/plain": [
       "\"RIMZIM IS MY BABA'S HOME.\""
      ]
     },
     "execution_count": 8,
     "metadata": {},
     "output_type": "execute_result"
    }
   ],
   "source": [
    "class String2Upper:\n",
    "    def __init__(this):\n",
    "        this.string = None\n",
    "        pass\n",
    "    \n",
    "    def get_string(this):\n",
    "        this.string = input(\"Enter a string: \")\n",
    "        return this\n",
    "    \n",
    "    def print_string(this):\n",
    "        return this.string.upper()\n",
    "\n",
    "\n",
    "#Test Cases:\n",
    "String2Upper().get_string().print_string()"
   ]
  },
  {
   "cell_type": "markdown",
   "metadata": {},
   "source": [
    "Q9. Write the Python class named Rectangle constructed by a length\n",
    "and width and the method which will compute the area of the\n",
    "rectangle?"
   ]
  },
  {
   "cell_type": "code",
   "execution_count": 9,
   "metadata": {},
   "outputs": [],
   "source": [
    "class Rectangle:\n",
    "    def __init__(this, length, width):\n",
    "        this.length, this.width = length, width\n",
    "    \n",
    "    def area(this):\n",
    "        if type(this.length) not in (int, float) or this.length <= 0 or\\\n",
    "            type(this.width) not in (int, float) or this.width <= 0:\n",
    "            return None\n",
    "    \n",
    "        return this.length * this.width\n",
    "\n",
    "\n",
    "#Test Cases:\n",
    "assert Rectangle(1.2, 2.3).area() == 2.76\n",
    "assert Rectangle(10, 20).area() == 200\n",
    "assert Rectangle(0, 20).area() == None\n",
    "assert Rectangle(10, 0).area() == None\n",
    "assert Rectangle(10, -2).area() == None\n"
   ]
  },
  {
   "cell_type": "markdown",
   "metadata": {},
   "source": [
    "Q10. Write the Python class named Circle constructed by the radius\n",
    "and two methods which will compute the area and perimeter of\n",
    "the circle?"
   ]
  },
  {
   "cell_type": "code",
   "execution_count": 10,
   "metadata": {},
   "outputs": [],
   "source": [
    "import numpy as np\n",
    "\n",
    "\n",
    "class Circle:\n",
    "    def __init__(this, radius):\n",
    "        this.radius = radius\n",
    "    \n",
    "    def area(this):\n",
    "        if type(this.radius) not in (int, float) or this.radius <= 0:\n",
    "            return None\n",
    "        return np.pi * this.radius ** 2\n",
    "    \n",
    "    def perimeter(this):\n",
    "        if type(this.radius) not in (int, float) or this.radius <= 0:\n",
    "            return None\n",
    "        return this.radius * 2\n",
    "\n",
    "\n",
    "#Test Cases:\n",
    "assert round(Circle(10).area(), 3) == round(314.1592653589793, 3)\n",
    "assert Circle(10).perimeter() == 20\n",
    "assert round(Circle(5.3).area(), 2) == round(88.24733763933729, 2)\n",
    "assert Circle(5.32).perimeter() == 10.64\n",
    "assert Circle(0).area() == None\n",
    "assert Circle(-5).area() == None\n"
   ]
  },
  {
   "cell_type": "code",
   "execution_count": null,
   "metadata": {},
   "outputs": [],
   "source": []
  },
  {
   "cell_type": "markdown",
   "metadata": {},
   "source": [
    "Q11. Write the Python program to get the class name of an instance in\n",
    "Python?"
   ]
  },
  {
   "cell_type": "code",
   "execution_count": 11,
   "metadata": {},
   "outputs": [
    {
     "name": "stdout",
     "output_type": "stream",
     "text": [
      "\n",
      "#GrandParentKlass's class hierarchy:\n",
      "\t<class 'object'>\n",
      "\t<class '__main__.GrandParentKlass'>\n",
      "\n",
      "#ParentKlass's class hierarchy:\n",
      "\t<class 'object'>\n",
      "\t<class '__main__.GrandParentKlass'>\n",
      "\t<class '__main__.ParentKlass'>\n",
      "\n",
      "#ChildKlass's class hierarchy:\n",
      "\t<class 'object'>\n",
      "\t<class '__main__.GrandParentKlass'>\n",
      "\t<class '__main__.ParentKlass'>\n",
      "\t<class '__main__.ChildKlass'>\n",
      "--------------------------------------------------\n"
     ]
    }
   ],
   "source": [
    "import inspect\n",
    "\n",
    "\n",
    "class GrandParentKlass:\n",
    "    def __init__(this):\n",
    "        pass\n",
    "\n",
    "    def get_class_name(this):\n",
    "        return this.__class__.__name__\n",
    "\n",
    "    def get_parent_class_name(this):\n",
    "        return this.__class__.__base__.__name__\n",
    "        #for parent in this.__class__.__bases__:\n",
    "        #    return parent.__name__\n",
    "\n",
    "    def get_class_hierarchy(this):\n",
    "        return inspect.getmro(this.__class__)\n",
    "\n",
    "\n",
    "class ParentKlass(GrandParentKlass):\n",
    "    def __init__(this):\n",
    "        pass\n",
    "\n",
    "\n",
    "class ChildKlass(ParentKlass):\n",
    "    def __init__(this):\n",
    "        pass\n",
    "\n",
    "\n",
    "def print_class_hierarchy(sequence):\n",
    "    for mro in reversed(sequence):\n",
    "        print(\"\\t\" + str(mro))\n",
    "    \n",
    "    \n",
    "#Test Cases:\n",
    "gp = GrandParentKlass()\n",
    "assert gp.get_class_name() == \"GrandParentKlass\"\n",
    "assert gp.get_parent_class_name() == 'object'\n",
    "print(\"\\n#GrandParentKlass's class hierarchy:\")\n",
    "print_class_hierarchy(gp.get_class_hierarchy())\n",
    "\n",
    "pr = ParentKlass()\n",
    "assert pr.get_class_name() == \"ParentKlass\"\n",
    "assert pr.get_parent_class_name() == 'GrandParentKlass'\n",
    "print(\"\\n#ParentKlass's class hierarchy:\")\n",
    "print_class_hierarchy(pr.get_class_hierarchy())\n",
    "\n",
    "ch = ChildKlass()\n",
    "assert ch.get_class_name() == \"ChildKlass\"\n",
    "assert ch.get_parent_class_name() == 'ParentKlass'\n",
    "print(\"\\n#ChildKlass's class hierarchy:\")\n",
    "print_class_hierarchy(ch.get_class_hierarchy())\n",
    "\n",
    "print(\"-\" * 50)\n"
   ]
  },
  {
   "cell_type": "markdown",
   "metadata": {},
   "source": [
    "Q12. Write the Python program to count the number of students of\n",
    "individual class?\n",
    "\n",
    "    Sample dataclasses = (\n",
    "    ('V', 1),\n",
    "    ('VI', 1),\n",
    "    ('V', 2),\n",
    "    ('VI', 2),\n",
    "    ('VI', 3),\n",
    "    ('VII', 1),\n",
    "    )\n",
    "    Expected OutputCounter({'VI': 3, 'V': 2, 'VII': 1})"
   ]
  },
  {
   "cell_type": "code",
   "execution_count": 12,
   "metadata": {},
   "outputs": [
    {
     "data": {
      "text/plain": [
       "{'VI': 3, 'V': 2, 'VII': 1}"
      ]
     },
     "execution_count": 12,
     "metadata": {},
     "output_type": "execute_result"
    }
   ],
   "source": [
    "from collections import defaultdict\n",
    "\n",
    "\n",
    "class MyCounter:\n",
    "    def __init__(this, tuple_seq):\n",
    "        this.tuple_seq = tuple_seq\n",
    "        this.count_dict = defaultdict()\n",
    "    \n",
    "    def count(this):\n",
    "        for tuple_val in this.tuple_seq:\n",
    "            count = this.count_dict.get(tuple_val[0])\n",
    "            if count == None:\n",
    "                this.count_dict[tuple_val[0]] = 1\n",
    "                continue\n",
    "                \n",
    "            this.count_dict[tuple_val[0]] = count + 1\n",
    "\n",
    "        return dict((sorted(this.count_dict.items(), key=lambda x: x[1], reverse=True)))\n",
    "    \n",
    "\n",
    "MyCounter(( ('V', 1), ('VI', 1), ('V', 2), ('VI', 2), ('VI', 3), ('VII', 1))).count()"
   ]
  },
  {
   "cell_type": "markdown",
   "metadata": {},
   "source": [
    "## Great Job!"
   ]
  }
 ],
 "metadata": {
  "kernelspec": {
   "display_name": "Python 3",
   "language": "python",
   "name": "python3"
  },
  "language_info": {
   "codemirror_mode": {
    "name": "ipython",
    "version": 3
   },
   "file_extension": ".py",
   "mimetype": "text/x-python",
   "name": "python",
   "nbconvert_exporter": "python",
   "pygments_lexer": "ipython3",
   "version": "3.7.6"
  },
  "widgets": {
   "application/vnd.jupyter.widget-state+json": {
    "state": {},
    "version_major": 2,
    "version_minor": 0
   }
  }
 },
 "nbformat": 4,
 "nbformat_minor": 2
}
