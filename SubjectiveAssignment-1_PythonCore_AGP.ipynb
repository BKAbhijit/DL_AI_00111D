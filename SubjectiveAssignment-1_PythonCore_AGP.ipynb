{
 "cells": [
  {
   "cell_type": "markdown",
   "metadata": {},
   "source": [
    "Q1. Write a Python program to get the string from the given string where\n",
    "all the occurrence of its first char has been changed to '$,' except first\n",
    "char itself?\n",
    "\n",
    "    Sample String: 'prospect'\n",
    "    Expected Result : 'pros$ect'\n"
   ]
  },
  {
   "cell_type": "code",
   "execution_count": 1,
   "metadata": {},
   "outputs": [],
   "source": [
    "string = \"prospectplus\"\n",
    "resultant_string = \"pros$ect$lus\"\n",
    "\n",
    "find_with = string[0]\n",
    "replace_with = \"$\"\n",
    "\n",
    "assert find_with + string.split(find_with, 1)[1].replace(find_with, \"$\") == resultant_string\n",
    "assert string.replace(find_with, \"$\").replace(replace_with, find_with, 1) == resultant_string\n"
   ]
  },
  {
   "cell_type": "markdown",
   "metadata": {},
   "source": [
    "Q2. Write a Python program to get the single string from the two given\n",
    "strings, and separated by the space and swap the first two characters of\n",
    "each string?\n",
    "\n",
    "    Sample String : 'abc', 'xyz'.\n",
    "    Expected Result: 'xyc abz'"
   ]
  },
  {
   "cell_type": "code",
   "execution_count": 2,
   "metadata": {},
   "outputs": [],
   "source": [
    "first_string = \"abc\"\n",
    "second_string = \"xyz\"\n",
    "expected_result = 'xyc abz'\n",
    "\n",
    "actual_result = (second_string[0:2] + first_string[2:]) + \" \" + (first_string[0:2] + second_string[2:])\n",
    "\n",
    "assert actual_result == expected_result\n"
   ]
  },
  {
   "cell_type": "markdown",
   "metadata": {},
   "source": [
    "Q3. Write the Python program to add 'ing' at the end of the given string\n",
    "(length of the string should be at least 3). If given string already ends\n",
    "with 'ing,' then add 'ly' instead. If string length of the given string is less\n",
    "than 3, leave it unchanged?\n",
    "\n",
    "\n",
    "    Sample string: ' abc '\n",
    "    Expected result: ' abcing '\n",
    "    Sample string: ' string '\n",
    "    Expected result: ' stringly '\n"
   ]
  },
  {
   "cell_type": "code",
   "execution_count": 3,
   "metadata": {},
   "outputs": [],
   "source": [
    "def suffix_string(string):\n",
    "    if type(string) != str or len(string.strip()) < 3:\n",
    "        return string\n",
    "    \n",
    "    return (string + \"ly\") if string.strip().endswith(\"ing\") else (string + \"ing\")\n",
    "\n",
    "assert suffix_string(\"string\") == \"stringly\"\n",
    "assert suffix_string(\"abc\") == \"abcing\"\n",
    "assert suffix_string(\"ing\") == \"ingly\"\n",
    "assert suffix_string(\"ingly\") == \"inglying\"\n",
    "assert suffix_string(123) == 123\n"
   ]
  },
  {
   "cell_type": "markdown",
   "metadata": {},
   "source": [
    "Q4. Write the Python program to find the first appearance of the\n",
    "substring 'not' and 'poor' from the given string, if 'not' follows the 'poor',\n",
    "replace the whole 'not'...' poor' substring with 'good'.Return the resulting\n",
    "string.\n",
    "\n",
    "    Sample string: 'The lyrics are not that poor!'\n",
    "    'The lyrics are poor!'\n",
    "    Expected Result: 'The lyrics are good!'\n",
    "    'The lyrics are poor!'"
   ]
  },
  {
   "cell_type": "code",
   "execution_count": 4,
   "metadata": {},
   "outputs": [],
   "source": [
    "import re\n",
    "\n",
    "input_string1 = 'The lyrics are not that poor!'\n",
    "input_string2 = 'The lyrics are poor!'\n",
    "\n",
    "regex = r\"not\\s+\\w*\\s*poor\"\n",
    "replace_with = \"good\"\n",
    "\n",
    "assert re.sub(regex, replace_with, input_string1, count=1) == \"The lyrics are good!\"\n",
    "assert re.sub(regex, replace_with, input_string2, count=1) == 'The lyrics are poor!'\n"
   ]
  },
  {
   "cell_type": "markdown",
   "metadata": {},
   "source": [
    "Q5. Write the Python program to remove the characters which have odd\n",
    "index values of a given string."
   ]
  },
  {
   "cell_type": "code",
   "execution_count": 5,
   "metadata": {},
   "outputs": [],
   "source": [
    "input_string = \"This is a sample string.\"\n",
    "\n",
    "assert input_string[1::2] == 'hsi  apesrn.'\n",
    "assert \"1234567890\"[1::2] == '24680'"
   ]
  },
  {
   "cell_type": "markdown",
   "metadata": {},
   "source": [
    "Q6. Write the python program to print the following floating numbers up\n",
    "to 2 decimal places?"
   ]
  },
  {
   "cell_type": "code",
   "execution_count": 6,
   "metadata": {},
   "outputs": [],
   "source": [
    "real_list = [1.2345, 34.58798, 123.87, 23.126, 1.0]\n",
    "\n",
    "assert [round(real, 2) for real in real_list] == [1.23, 34.59, 123.87, 23.13, 1.00]"
   ]
  },
  {
   "cell_type": "markdown",
   "metadata": {},
   "source": [
    "Q7. Write the Python program to format a number with a percentage?"
   ]
  },
  {
   "cell_type": "code",
   "execution_count": 7,
   "metadata": {},
   "outputs": [
    {
     "name": "stdout",
     "output_type": "stream",
     "text": [
      "The addition of 12 & 65 is 77.\n",
      "The Indian Cricketers' names are: ['Rahul', 'Virat', 'Jasprit'] \n",
      "The percentage marks are 86.60%\n"
     ]
    }
   ],
   "source": [
    "operation = \"addition\"\n",
    "operand1 = 12\n",
    "operand2 = 65\n",
    "\n",
    "print(\"The %s of %d & %d is %d.\" % (operation, operand1, operand2, (operand1 + operand2)))\n",
    "\n",
    "name_list = [\"Rahul\", \"Virat\", \"Jasprit\"]\n",
    "print(\"The Indian Cricketers' names are: %s \" % name_list)\n",
    "\n",
    "mark_list = [89, 72, 93, 80, 99]\n",
    "print(\"The percentage marks are %.2f%%\" % (sum(mark_list)/len(mark_list)))"
   ]
  },
  {
   "cell_type": "markdown",
   "metadata": {},
   "source": [
    "Q8. Write the Python program to count occurrences of a substring in a\n",
    "String?"
   ]
  },
  {
   "cell_type": "code",
   "execution_count": 8,
   "metadata": {},
   "outputs": [],
   "source": [
    "input_string = \"What is your name? My name is Abhijit & name of my city is Pune.\"\n",
    "\n",
    "assert input_string.count(\"name\") == 3\n",
    "assert input_string.count(\"pune\".capitalize()) == 1\n"
   ]
  },
  {
   "cell_type": "markdown",
   "metadata": {},
   "source": [
    "Q9. Write the Python program to count repeated characters in a string.\n",
    "\n",
    "    Sample string: ' thequickbrownjumpsoverthelazydog '\n",
    "    \n",
    "    Expected output:\n",
    "    o 3\n",
    "    e 3\n",
    "    u 2\n",
    "    h 2\n",
    "    r 2\n",
    "    t 2"
   ]
  },
  {
   "cell_type": "code",
   "execution_count": 9,
   "metadata": {},
   "outputs": [
    {
     "name": "stdout",
     "output_type": "stream",
     "text": [
      "o 3\n",
      "e 3\n",
      "u 2\n",
      "t 2\n",
      "r 2\n",
      "h 2\n",
      "  2\n",
      "z 1\n",
      "y 1\n",
      "w 1\n",
      "v 1\n",
      "s 1\n",
      "q 1\n",
      "p 1\n",
      "n 1\n",
      "m 1\n",
      "l 1\n",
      "k 1\n",
      "j 1\n",
      "i 1\n",
      "g 1\n",
      "d 1\n",
      "c 1\n",
      "b 1\n",
      "a 1\n",
      "----------\n",
      "o 3\n",
      "e 3\n",
      "u 2\n",
      "t 2\n",
      "r 2\n",
      "h 2\n",
      "  2\n",
      "z 1\n",
      "y 1\n",
      "w 1\n",
      "v 1\n",
      "s 1\n",
      "q 1\n",
      "p 1\n",
      "n 1\n",
      "m 1\n",
      "l 1\n",
      "k 1\n",
      "j 1\n",
      "i 1\n",
      "g 1\n",
      "d 1\n",
      "c 1\n",
      "b 1\n",
      "a 1\n"
     ]
    }
   ],
   "source": [
    "input_string = ' thequickbrownjumpsoverthelazydog '\n",
    "unique_chars = set(input_string)\n",
    "\n",
    "# Easier logic:\n",
    "for char_freq in sorted([(input_string.count(char), char) for char in unique_chars], reverse=True):\n",
    "    print(char_freq[1] + \" \" + str(char_freq[0]))\n",
    "\n",
    "print(\"-\" * 10)\n",
    "\n",
    "# Bit complicated logic:\n",
    "for char_freq in sorted([str(input_string.count(char)) + \"|\" + char for char in unique_chars], reverse=True):\n",
    "    print(char_freq.split(sep=\"|\", maxsplit=1)[1] + \" \" + char_freq.split(sep=\"|\", maxsplit=1)[0])\n"
   ]
  },
  {
   "cell_type": "markdown",
   "metadata": {},
   "source": [
    "Q10. Write the Python program to print the square and cube symbol in\n",
    "the area of a rectangle and volume of a cylinder?\n",
    "\n",
    "    Sample outputThe area of the rectangle is 1256.66cm2\n",
    "    The volume of the cylinder is 1254.725cm3\n"
   ]
  },
  {
   "cell_type": "code",
   "execution_count": 10,
   "metadata": {},
   "outputs": [
    {
     "name": "stdout",
     "output_type": "stream",
     "text": [
      "The area of the rectangle is 1256.66cm²\n",
      "The volume of the cylinder is 1254.725cm³\n",
      "Chemical equation/formula of water is H₂O.\n"
     ]
    }
   ],
   "source": [
    "ft1 = \"The area of the rectangle is {}cm\\u00B2\".format(1256.66)\n",
    "volume = 1254.725\n",
    "ft2 = f\"The volume of the cylinder is {volume}cm\\u00b3\"\n",
    "ft3 = \"Chemical equation/formula of water is H\\u2082O.\"\n",
    "print(ft1)\n",
    "print(ft2)\n",
    "print(ft3)"
   ]
  },
  {
   "cell_type": "markdown",
   "metadata": {},
   "source": [
    "Q11. Write the Python program to check if a string contains all letters of\n",
    "the alphabet?"
   ]
  },
  {
   "cell_type": "code",
   "execution_count": 11,
   "metadata": {},
   "outputs": [],
   "source": [
    "assert \"string\".isalpha() == True\n",
    "assert \"alpha1\".isalpha() == False\n",
    "assert all([ch.isalpha() for ch in \"2beta\"]) == False"
   ]
  },
  {
   "cell_type": "markdown",
   "metadata": {},
   "source": [
    "Q12. Write the Python program to find the second most repeated word\n",
    "in a given string?"
   ]
  },
  {
   "cell_type": "code",
   "execution_count": 12,
   "metadata": {},
   "outputs": [
    {
     "name": "stdout",
     "output_type": "stream",
     "text": [
      "Most Frequent Word: name\n",
      "Second Most Frequent Word: is\n"
     ]
    }
   ],
   "source": [
    "def trim(string):\n",
    "    punctuations = \"!\\\"#$%&'()*+,-./:;<=>?@[\\]^_`{|}~\"\n",
    "    for pchar in punctuations:\n",
    "        string = string.replace(pchar, \"\")\n",
    "    \n",
    "    return string\n",
    "\n",
    "def mymap(function, sequence):\n",
    "    result = [sequence.copy()]\n",
    "    result.clear()\n",
    "    for element in sequence:\n",
    "        result.append(function(element))\n",
    "\n",
    "    return result\n",
    "\n",
    "input_string = \"this is my name. that is your name, so what's there in name?\"\n",
    "\n",
    "trimmed_words = mymap(trim, input_string.split())\n",
    "unique_words = set(trimmed_words)\n",
    "\n",
    "def find_frequent_word(word_list, highest_rank):\n",
    "    unique_words = set(word_list)\n",
    "    return sorted([(word_list.count(word), word) for word in unique_words], reverse=True)[highest_rank - 1][1]\n",
    "\n",
    "most_frequent_word = find_frequent_word(trimmed_words, 1)\n",
    "print(\"Most Frequent Word: \" + most_frequent_word)\n",
    "\n",
    "second_most_frequent_word = find_frequent_word(trimmed_words, 2)\n",
    "print(\"Second Most Frequent Word: \" + second_most_frequent_word)\n"
   ]
  },
  {
   "cell_type": "markdown",
   "metadata": {},
   "source": [
    "Q13. Write the Python program to find the minimum window in the given\n",
    "string, which will contains all the characters of another given\n",
    "strings?\n",
    "\n",
    "    Example 1\n",
    "    Input : string1 = \" PRWSOERIUSFK \"\n",
    "    string2 = \" OSU \"\n",
    "    Output: Minimum window is \"OERIUS\""
   ]
  },
  {
   "cell_type": "code",
   "execution_count": 13,
   "metadata": {},
   "outputs": [
    {
     "data": {
      "text/plain": [
       "'SOERIU'"
      ]
     },
     "execution_count": 13,
     "metadata": {},
     "output_type": "execute_result"
    }
   ],
   "source": [
    "from itertools import islice\n",
    "\n",
    "\n",
    "input_string = \"onetweothreheojhtorejtpeirretoesftsdfdorotetoorreer\"\n",
    "search_chars = \"tore\"\n",
    "\n",
    "input_string = \" PRWSOERIUSFK \"\n",
    "search_chars = \" OSU \"\n",
    "search_chars_set = set(search_chars.strip())\n",
    "search_chars = ''.join(str(ch) for ch in search_chars_set)\n",
    "\n",
    "search_char_tuple = [(idx, input_string[idx]) for idx in range(len(input_string))]\n",
    "\n",
    "char_index_dict = {}\n",
    "start_index = 0\n",
    "end_index = len(input_string)\n",
    "\n",
    "for idx in range(start_index, end_index):\n",
    "    for search_char in search_chars:\n",
    "        start_index = input_string.find(search_char, start_index)\n",
    "        if start_index != -1:\n",
    "            char_index_dict[start_index] = search_char\n",
    "\n",
    "\n",
    "char_index_dict = {}\n",
    "\n",
    "for search_char in search_chars:\n",
    "    start_index = 0\n",
    "    end_index = len(input_string)\n",
    "    \n",
    "    for idx in range(len(input_string)):\n",
    "        found_at_index = input_string.find(search_char, idx)\n",
    "        if found_at_index != -1:\n",
    "            char_index_dict[found_at_index] = search_char\n",
    "\n",
    "sorted_dict = {}\n",
    "for idx in sorted(char_index_dict.keys()):\n",
    "    sorted_dict[idx] = char_index_dict.get(idx)\n",
    "\n",
    "#print(sorted_dict)\n",
    "\n",
    "subgroup_size = len(search_chars)\n",
    "subgroup_count = len(sorted_dict) - subgroup_size + 1\n",
    "\n",
    "temp_dict = sorted_dict.copy()\n",
    "subgroups_list = []\n",
    "\n",
    "for ctr in range(subgroup_count):\n",
    "    subgroups_list.append(list(islice(temp_dict.items(), subgroup_size)))\n",
    "    temp_dict.pop(list(temp_dict.keys())[0])\n",
    "    \n",
    "#print(subgroups_list)\n",
    "\n",
    "subgroup_list_idx = -1\n",
    "final_subgroups_list = []\n",
    "for sg_list in subgroups_list:\n",
    "    subgroup_list_idx += 1\n",
    "    tmp_str = \"\"\n",
    "    for ctr in range(len(sg_list)):\n",
    "        tmp_str += sg_list[ctr][1]\n",
    "    if len(set(tmp_str)) == len(search_chars):\n",
    "        final_subgroups_list.append(sg_list)\n",
    "\n",
    "distance_list = []\n",
    "for sg_list in final_subgroups_list:\n",
    "    distance_list.append(sg_list[len(search_chars) - 1][0] - sg_list[0][0])\n",
    "\n",
    "#print(distance_list)\n",
    "\n",
    "min_dist_idx = distance_list.index(min(distance_list))\n",
    "#print(min_dist_idx)\n",
    "distance_list[min_dist_idx]\n",
    "#print(final_subgroups_list[min_dist_idx])\n",
    "start_pos = final_subgroups_list[min_dist_idx][0][0]\n",
    "end_pos = final_subgroups_list[min_dist_idx][len(search_chars)-1][0]\n",
    "\n",
    "input_string[start_pos:end_pos+1]"
   ]
  },
  {
   "cell_type": "markdown",
   "metadata": {},
   "source": [
    "## Other Easier & More Featured Implementation is:"
   ]
  },
  {
   "cell_type": "code",
   "execution_count": 14,
   "metadata": {},
   "outputs": [
    {
     "name": "stdout",
     "output_type": "stream",
     "text": [
      "\n",
      "Input String:\n",
      " PRWSOERIUSFK \n",
      "\n",
      "Search Character Set:\n",
      "SOU\n",
      "\n",
      "Matching SubString(s) with Minimum Window (i.e. Length):\n",
      "SOERIU : (4, 9)\n",
      "OERIUS : (5, 10)\n"
     ]
    }
   ],
   "source": [
    "import itertools\n",
    "\n",
    "\n",
    "input_string = \" PRWSOERIUSFK \" #\"onetweothreheojhtorejtpeirretoesftsdfdoror\"\n",
    "search_chars = \" OSU \" #\"tore\"\n",
    "\n",
    "#input_string = \"onetweothreheojhtorejtpeirretoesftsdfdorotetoorreer\"\n",
    "#search_chars = \"tore\"\n",
    "\n",
    "#Remove duplicate characters from set of searching characters:\n",
    "search_chars_set = set(search_chars.strip())\n",
    "search_chars = ''.join(str(ch) for ch in search_chars_set)\n",
    "\n",
    "#Create a list of sorted tuples containing index & searching character found in given input string:\n",
    "idx_char_list = \\\n",
    "    sorted([(idx, search_char)\n",
    "        for search_char in search_chars\n",
    "            for idx, each_char in enumerate(input_string) \n",
    "                if each_char == search_char])\n",
    "#print(idx_char_list)\n",
    "\n",
    "#Convert list of sorted tuples to dictionary with key: found_index & value: searching_character:\n",
    "#[sorted_dict.setdefault(idx, char) for idx, char in idx_char_list]\n",
    "#print(sorted_dict)\n",
    "\n",
    "#Convert list of sorted tuples to dictionary with key: searching_character & values: list of found_indexes: :\n",
    "char_idxs_dict = {}\n",
    "[char_idxs_dict.setdefault(char, []).append(idx) for idx, char in idx_char_list]\n",
    "#print(char_idxs_dict)\n",
    "\n",
    "shorted_distance = len(input_string)\n",
    "other_idx_list = []\n",
    "this_idx = -1\n",
    "matched_substring_dict = {}\n",
    "\n",
    "for curr_idx_list in list(char_idxs_dict.values()):\n",
    "    #print(curr_idx_list)\n",
    "    this_idx += 1\n",
    "    other_idx_list = list(char_idxs_dict.values())\n",
    "    other_idx_list.pop(this_idx)\n",
    "    other_idx_list = sorted(list(itertools.chain(*other_idx_list)))\n",
    "    #print(other_idx_list)\n",
    "\n",
    "    for i in range(len(curr_idx_list)):\n",
    "        for j in range(len(other_idx_list)):\n",
    "            curr_idx, other_idx = curr_idx_list[i], other_idx_list[j]\n",
    "            \n",
    "            if curr_idx - other_idx < 0:\n",
    "                substr = input_string[curr_idx:other_idx+1]\n",
    "            else:\n",
    "                substr = input_string[other_idx:curr_idx+1]\n",
    "\n",
    "            distance = (curr_idx - other_idx)\n",
    "            if distance < 0 and abs(distance) + 1 >= len(search_chars):\n",
    "                substring = input_string[curr_idx:other_idx+1]\n",
    "                #print(f\"({curr_idx}, {other_idx}): {substring}\")\n",
    "                \n",
    "                #Check if all search characters are found in a currently extracted substring:\n",
    "                if all([char in substring for char in search_chars_set]) \\\n",
    "                    and len(substring) <= shorted_distance:\n",
    "                    \n",
    "                    shorted_distance = min(len(substring), shorted_distance)\n",
    "                    idx_range = \"(\" + str(curr_idx) + \", \" + str(other_idx) + \")\"\n",
    "                    \n",
    "                    if len(matched_substring_dict) == 0: #when dict is empty.\n",
    "                        matched_substring_dict[idx_range] = substring\n",
    "                    elif len(substring) == len(list(matched_substring_dict.values())[0]): #when length matches.\n",
    "                        matched_substring_dict[idx_range] = substring\n",
    "                    else:\n",
    "                        del_key_list = []\n",
    "                        for key_idx, val_substr in matched_substring_dict.items(): #\n",
    "                            if len(substring) < len(val_substr):\n",
    "                                del_key_list.append(key_idx) #add all keys having val str greater len.\n",
    "                        [matched_substring_dict.pop(key) for key in del_key_list] #remove kv-pairs having val str greater len.\n",
    "                        matched_substring_dict[idx_range] = substring\n",
    "                        \n",
    "\n",
    "print(\"\\nInput String:\\n\" + input_string)\n",
    "print(\"\\nSearch Character Set:\\n\" + search_chars)\n",
    "print(\"\\nMatching SubString(s) with Minimum Window (i.e. Length):\")\n",
    "for ir, mss in matched_substring_dict.items(): #ir: index range & mss: matched substring\n",
    "    print(mss + \" : \" + ir)\n"
   ]
  },
  {
   "cell_type": "markdown",
   "metadata": {},
   "source": [
    "Q14. Write the Python program to count number of substrings from a\n",
    "given string of lowercase alphabets with exactly k distinct (given)\n",
    "characters?\n",
    "\n",
    "    Input a string (lowercase alphabets): wolf\n",
    "    Input k: 4\n",
    "    Number of substrings with exactly 4 distinct characters: 1"
   ]
  },
  {
   "cell_type": "code",
   "execution_count": 15,
   "metadata": {},
   "outputs": [
    {
     "name": "stdout",
     "output_type": "stream",
     "text": [
      "['imas', 'hoam', 'maso', 'whoa', 'asou', 'oami']\n",
      "6\n"
     ]
    }
   ],
   "source": [
    "input_string = \"whoamiimasoul\"\n",
    "k_value = 4\n",
    "\n",
    "unique_substrings = set([input_string[idx:idx+k_value] for idx in range(len(input_string) - k_value)])\n",
    "#print(unique_substrings)\n",
    "\n",
    "unique_char_substrings = [substring for substring in unique_substrings if(len(substring) == len(set(substring)))]\n",
    "print(unique_char_substrings)\n",
    "print(len(unique_char_substrings))"
   ]
  },
  {
   "cell_type": "markdown",
   "metadata": {},
   "source": [
    "Q15. Write the Python program to count number of substrings with same\n",
    "first and last characters of the given string?\n",
    "\n",
    "    Input a string: abcd\n",
    "    4\n"
   ]
  },
  {
   "cell_type": "code",
   "execution_count": 16,
   "metadata": {},
   "outputs": [
    {
     "name": "stdout",
     "output_type": "stream",
     "text": [
      "['ayxd', 'axyd', 'dyxa', 'dxya']\n",
      "4\n"
     ]
    }
   ],
   "source": [
    "input_string = \"axyd\"\n",
    "first_char = input_string[0]\n",
    "last_char = input_string[-1]\n",
    "\n",
    "#print(first_char)\n",
    "#print(last_char)\n",
    "\n",
    "middle_substring = input_string[1:len(input_string)-1]\n",
    "#print(middle_substring)\n",
    "\n",
    "from itertools import permutations\n",
    "\n",
    "list1 = [(first_char + str(substr) + last_char)\n",
    "     for substr in set([''.join(lst) for ch in range(len(middle_substring)) for lst in permutations(middle_substring, len(middle_substring))])]\n",
    "\n",
    "list2 = [(last_char + str(substr) + first_char)\n",
    "     for substr in set([''.join(lst) for ch in range(len(middle_substring)) for lst in permutations(middle_substring, len(middle_substring))])]\n",
    "\n",
    "list1.extend(list2)\n",
    "print(list1)\n",
    "print(len(list1))"
   ]
  },
  {
   "cell_type": "markdown",
   "metadata": {},
   "source": [
    "## Great Job!"
   ]
  }
 ],
 "metadata": {
  "kernelspec": {
   "display_name": "Python 3",
   "language": "python",
   "name": "python3"
  },
  "language_info": {
   "codemirror_mode": {
    "name": "ipython",
    "version": 3
   },
   "file_extension": ".py",
   "mimetype": "text/x-python",
   "name": "python",
   "nbconvert_exporter": "python",
   "pygments_lexer": "ipython3",
   "version": "3.7.6"
  }
 },
 "nbformat": 4,
 "nbformat_minor": 2
}
