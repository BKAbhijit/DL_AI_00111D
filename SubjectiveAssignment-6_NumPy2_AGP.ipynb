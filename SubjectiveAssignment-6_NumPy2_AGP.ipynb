{
 "cells": [
  {
   "cell_type": "markdown",
   "metadata": {},
   "source": [
    "# Assignment"
   ]
  },
  {
   "cell_type": "code",
   "execution_count": 1,
   "metadata": {},
   "outputs": [],
   "source": [
    "import numpy as np\n",
    "import matplotlib.pyplot as plt\n",
    "%matplotlib inline"
   ]
  },
  {
   "cell_type": "markdown",
   "metadata": {},
   "source": [
    "Q1. Write the NumPy program to create an array of ones and an array\n",
    "of zeros?\n",
    "\n",
    "    Expected OutputCreate an array of zeros\n",
    "    Default type is float\n",
    "    [[ 0. 0.]]\n",
    "    Type changes to int\n",
    "    [[0 0]]\n",
    "    Create an array of ones\n",
    "    Default type is float\n",
    "    [[ 1. 1.]]\n",
    "    Type changes to int\n",
    "    [[1 1]]"
   ]
  },
  {
   "cell_type": "code",
   "execution_count": 2,
   "metadata": {},
   "outputs": [
    {
     "name": "stdout",
     "output_type": "stream",
     "text": [
      "#Array of Zeros with default type is float:\n",
      "[0. 0. 0.]\n",
      "\n",
      "#After changing type to int:\n",
      "[0 0 0]\n",
      "\n",
      "#Array of Ones with default type is float:\n",
      "[1. 1. 1. 1. 1.]\n",
      "\n",
      "#After changing to int:\n",
      "[1 1 1 1 1]\n",
      "--------------------------------------------------\n"
     ]
    }
   ],
   "source": [
    "arr0 = np.zeros(3)#, dtype=np.float64)\n",
    "\n",
    "print(\"#Array of Zeros with default type is float:\")\n",
    "print(arr0)\n",
    "\n",
    "print(\"\\n#After changing type to int:\")\n",
    "arr0 = arr0.astype(np.int32)\n",
    "print(arr0)\n",
    "\n",
    "print(\"\\n#Array of Ones with default type is float:\")\n",
    "arr1 = np.ones(5)\n",
    "print(arr1)\n",
    "\n",
    "print(\"\\n#After changing to int:\")\n",
    "arr1 = arr1.astype(np.int8)\n",
    "print(arr1)\n",
    "print(\"-\" * 50)"
   ]
  },
  {
   "cell_type": "markdown",
   "metadata": {},
   "source": [
    "Q2. Write the NumPy program to change the dimension of an array?\n",
    "\n",
    "    Expected Output6 rows and 0 columns\n",
    "    (6,)\n",
    "    (3, 3) -> 3 rows and 3 columns\n",
    "    [[1 2 3]\n",
    "    [4 5 6]\n",
    "    [7 8 9]]\n",
    "    Change array shape to (3, 3) -> 3 rows and 3 columns\n",
    "    [[1 2 3]\n",
    "    [4 5 6]\n",
    "    [7 8 9]]"
   ]
  },
  {
   "cell_type": "code",
   "execution_count": 3,
   "metadata": {},
   "outputs": [
    {
     "name": "stdout",
     "output_type": "stream",
     "text": [
      "#Original array of shape: (9,) is:\n",
      "[1 2 3 4 5 6 7 8 9]\n",
      "\n",
      "#Reshaped array with new shape: (3, 3) is:\n",
      "[[1 2 3]\n",
      " [4 5 6]\n",
      " [7 8 9]]\n",
      "--------------------------------------------------\n"
     ]
    }
   ],
   "source": [
    "arr = np.array([1, 2, 3, 4, 5, 6, 7, 8, 9])\n",
    "\n",
    "print(f\"#Original array of shape: {arr.shape} is:\")\n",
    "print(arr)\n",
    "arr = arr.reshape(3, 3)\n",
    "print(f\"\\n#Reshaped array with new shape: {arr.shape} is:\")\n",
    "print(arr)\n",
    "print(\"-\" * 50)"
   ]
  },
  {
   "cell_type": "markdown",
   "metadata": {},
   "source": [
    "Q3. Write the NumPy program to create a new shape to an array\n",
    "without changing its data ?\n",
    "\n",
    "    Reshape 3x2-\n",
    "    [[1 2]\n",
    "    [3 4]\n",
    "    [5 6]]\n",
    "    Reshape 2x3-\n",
    "    [[1 2 3]\n",
    "    [4 5 6]]"
   ]
  },
  {
   "cell_type": "code",
   "execution_count": 4,
   "metadata": {},
   "outputs": [
    {
     "name": "stdout",
     "output_type": "stream",
     "text": [
      "#Original Array of shape (6,):\n",
      "[11 15  1  2 17  1]\n",
      "\n",
      "#Reshaped to (2, 3):\n",
      "[[11 15  1]\n",
      " [ 2 17  1]]\n",
      "\n",
      "#Again reshaped to (3, 2):\n",
      "[[11 15]\n",
      " [ 1  2]\n",
      " [17  1]]\n",
      "--------------------------------------------------\n"
     ]
    }
   ],
   "source": [
    "arr0 = np.random.randint(21, size=6)\n",
    "arr1 = arr0.reshape(2, -1)\n",
    "arr2 = arr1.reshape(3, -1)\n",
    "\n",
    "print(f\"#Original Array of shape {arr0.shape}:\")\n",
    "print(arr0)\n",
    "\n",
    "print(f\"\\n#Reshaped to {arr1.shape}:\")\n",
    "print(arr1)\n",
    "\n",
    "print(f\"\\n#Again reshaped to {arr2.shape}:\")\n",
    "print(arr2)\n",
    "print(\"-\" * 50)"
   ]
  },
  {
   "cell_type": "markdown",
   "metadata": {},
   "source": [
    "Q4. Write the NumPy program to create a new array of 3*5, filled with\n",
    "2?\n",
    "\n",
    "    Expected Output-\n",
    "    [[2 2 2 2 2]\n",
    "    [2 2 2 2 2]\n",
    "    [2 2 2 2 2]]\n",
    "    [[2 2 2 2 2]\n",
    "    [2 2 2 2 2]\n",
    "    [2 2 2 2 2]]"
   ]
  },
  {
   "cell_type": "code",
   "execution_count": 5,
   "metadata": {},
   "outputs": [
    {
     "name": "stdout",
     "output_type": "stream",
     "text": [
      "#Original array with shape (3, 3) is:\n",
      "[[ 17   0   0   0   0]\n",
      " [  0   0   0   0   0]\n",
      " [740   0   0   0   0]]\n",
      "\n",
      "#Filled array with shape (3, 3) is:\n",
      "[[2 2 2 2 2]\n",
      " [2 2 2 2 2]\n",
      " [2 2 2 2 2]]\n",
      "--------------------------------------------------\n"
     ]
    }
   ],
   "source": [
    "arr2 = np.empty((3, 5), dtype=np.int)\n",
    "\n",
    "print(f\"#Original array with shape {arr.shape} is:\")\n",
    "print(arr2)\n",
    "\n",
    "print(f\"\\n#Filled array with shape {arr.shape} is:\")\n",
    "arr2.fill(2)\n",
    "print(arr2)\n",
    "print(\"-\" * 50)"
   ]
  },
  {
   "cell_type": "markdown",
   "metadata": {},
   "source": [
    "Q5. Write the NumPy program to create a 3-D array with ones on a\n",
    "diagonal and zeros elsewhere?\n",
    "\n",
    "    Expected Output-\n",
    "    [[ 1. 0. 0.]\n",
    "    [ 0. 1. 0.]\n",
    "    [ 0. 0. 1.]]"
   ]
  },
  {
   "cell_type": "code",
   "execution_count": 6,
   "metadata": {},
   "outputs": [
    {
     "name": "stdout",
     "output_type": "stream",
     "text": [
      "#Original array of shape (3, 3) is:\n",
      "[[0. 0. 0.]\n",
      " [0. 0. 0.]\n",
      " [0. 0. 0.]]\n",
      "\n",
      "#Diagonally filled array is:\n",
      "[[1. 0. 0.]\n",
      " [0. 1. 0.]\n",
      " [0. 0. 1.]]\n",
      "--------------------------------------------------\n"
     ]
    }
   ],
   "source": [
    "arr = np.zeros((3, 3), dtype=np.float)\n",
    "\n",
    "print(f\"#Original array of shape {arr.shape} is:\")\n",
    "print(arr)\n",
    "\n",
    "print(\"\\n#Diagonally filled array is:\")\n",
    "np.fill_diagonal(arr, 1)\n",
    "print(arr)\n",
    "print(\"-\" * 50)"
   ]
  },
  {
   "cell_type": "markdown",
   "metadata": {},
   "source": [
    "Q6. Write the NumPy program to split an array of 14 elements into the\n",
    "3 arrays and each of which has 2, 4, and 8 elements in original\n",
    "order?\n",
    "\n",
    "    Expected OutputOriginal array- [ 1 2 3 4 5 6 7 8 9 10 11 12 13 14]\n",
    "    After splitting-\n",
    "    [array([1, 2]), array([3, 4, 5, 6]), array([ 7, 8, 9, 10, 11, 12, 13, 14])]"
   ]
  },
  {
   "cell_type": "code",
   "execution_count": 7,
   "metadata": {},
   "outputs": [
    {
     "name": "stdout",
     "output_type": "stream",
     "text": [
      "#Original array of shape (14,) is:\n",
      "[ 1  2  3  4  5  6  7  8  9 10 11 12 13 14]\n",
      "\n",
      "#After splitting, the arrays are:\n",
      "[array([1, 2]), array([3, 4, 5, 6]), array([ 7,  8,  9, 10, 11, 12, 13, 14])]\n",
      "--------------------------------------------------\n"
     ]
    }
   ],
   "source": [
    "arr = np.array([1, 2, 3, 4, 5, 6, 7, 8, 9, 10, 11, 12, 13, 14])\n",
    "\n",
    "print(f\"#Original array of shape {arr.shape} is:\")\n",
    "print(arr)\n",
    "\n",
    "print(\"\\n#After splitting, the arrays are:\")\n",
    "print(np.split(arr, [2, 6], axis=0))\n",
    "print(\"-\" * 50)"
   ]
  },
  {
   "cell_type": "markdown",
   "metadata": {},
   "source": [
    "Q7. Write the NumPy program to split of an array of shape 4x4 it into\n",
    "two arrays along the second axis ?\n",
    "\n",
    "    Sample array -\n",
    "    [[ 0 1 2 3]\n",
    "    [ 4 5 6 7]\n",
    "    [ 8 9 10 11]\n",
    "    [12 13 14 15]]\n",
    "    Expected Output-\n",
    "    [array([[ 0, 1],\n",
    "    [ 4, 5],\n",
    "    [ 8, 9],\n",
    "    [12, 13]]), array([[ 2, 3],\n",
    "    [ 6, 7],\n",
    "    [10, 11],\n",
    "    [14, 15]]), array([], shape=(4, 0), dtype=int64)]"
   ]
  },
  {
   "cell_type": "code",
   "execution_count": 8,
   "metadata": {},
   "outputs": [
    {
     "name": "stdout",
     "output_type": "stream",
     "text": [
      "#Original array of shape (4, 4) is:\n",
      "[[ 0  1  2  3]\n",
      " [ 4  5  6  7]\n",
      " [ 8  9 10 11]\n",
      " [12 13 14 15]]\n",
      "\n",
      "#After splitting, the arrays are:\n",
      "[array([[ 0,  1],\n",
      "       [ 4,  5],\n",
      "       [ 8,  9],\n",
      "       [12, 13]]), array([[ 2,  3],\n",
      "       [ 6,  7],\n",
      "       [10, 11],\n",
      "       [14, 15]])]\n",
      "\n",
      "#Another way of splitting, the arrays are:\n",
      "[array([[ 0,  1],\n",
      "       [ 4,  5],\n",
      "       [ 8,  9],\n",
      "       [12, 13]]), array([[ 2,  3],\n",
      "       [ 6,  7],\n",
      "       [10, 11],\n",
      "       [14, 15]]), array([], shape=(4, 0), dtype=int32)]\n",
      "--------------------------------------------------\n"
     ]
    }
   ],
   "source": [
    "arr = np.array([[0, 1, 2, 3], [4, 5, 6, 7], [8, 9, 10, 11], [12, 13, 14, 15]])\n",
    "#OR\n",
    "arr = np.arange(16).reshape(4, 4)\n",
    "\n",
    "print(f\"#Original array of shape {arr.shape} is:\")\n",
    "print(arr)\n",
    "\n",
    "print(\"\\n#After splitting, the arrays are:\")\n",
    "print(np.split(arr, [2], axis=1))\n",
    "\n",
    "#OR\n",
    "\n",
    "print(\"\\n#Another way of splitting, the arrays are:\")\n",
    "print(np.hsplit(arr, [2, 6]))\n",
    "print(\"-\" * 50)"
   ]
  },
  {
   "cell_type": "markdown",
   "metadata": {},
   "source": [
    "Q8. Write the NumPy program to create a 5x5 matrix with row values\n",
    "ranging from 0 to 4?\n",
    "\n",
    "    Original array-\n",
    "    [[ 0. 0. 0. 0. 0.]\n",
    "    [ 0. 0. 0. 0. 0.]\n",
    "    [ 0. 0. 0. 0. 0.]\n",
    "    [ 0. 0. 0. 0. 0.]\n",
    "    [ 0. 0. 0. 0. 0.]]\n",
    "    Row values ranging from 0 to 4.\n",
    "    [[ 0. 1. 2. 3. 4.]\n",
    "    [ 0. 1. 2. 3. 4.]\n",
    "    [ 0. 1. 2. 3. 4.]\n",
    "    [ 0. 1. 2. 3. 4.]\n",
    "    [ 0. 1. 2. 3. 4.]]"
   ]
  },
  {
   "cell_type": "code",
   "execution_count": 9,
   "metadata": {},
   "outputs": [
    {
     "name": "stdout",
     "output_type": "stream",
     "text": [
      "#Original array of shape (5, 5) is:\n",
      "[[0 0 0 0 0]\n",
      " [0 0 0 0 0]\n",
      " [0 0 0 0 0]\n",
      " [0 0 0 0 0]\n",
      " [0 0 0 0 0]]\n",
      "\n",
      "#Row values ranging from 0 to 4:\n",
      "[[0 1 2 3 4]\n",
      " [0 1 2 3 4]\n",
      " [0 1 2 3 4]\n",
      " [0 1 2 3 4]\n",
      " [0 1 2 3 4]]\n",
      "--------------------------------------------------\n"
     ]
    }
   ],
   "source": [
    "arr = np.random.randn(5, 5)\n",
    "arr.fill(0)\n",
    "arr = arr.astype(np.int)\n",
    "\n",
    "print(f\"#Original array of shape {arr.shape} is:\")\n",
    "print(arr)\n",
    "\n",
    "print(\"\\n#Row values ranging from 0 to 4:\")\n",
    "arr += np.arange(5, dtype=np.int)\n",
    "print(arr)\n",
    "print(\"-\" * 50)"
   ]
  },
  {
   "cell_type": "markdown",
   "metadata": {},
   "source": [
    "Q9. Write the NumPy program to create an array of zeros and three\n",
    "column types (integer, float, character)?\n",
    "\n",
    "    Expected Output-\n",
    "    [(1, 2., b'Albert Einstein') (2, 2., b'Edmond Halley')\n",
    "    (3, 3., b'Gertrude B. Elion')]"
   ]
  },
  {
   "cell_type": "code",
   "execution_count": 10,
   "metadata": {},
   "outputs": [
    {
     "name": "stdout",
     "output_type": "stream",
     "text": [
      "[(1, 2.0, b'Albert Einstein'), (2, 2.0, b'Edmond Halley'), (3, 3.0, b'Gertrude B. Elion')]\n",
      "--------------------------------------------------\n"
     ]
    }
   ],
   "source": [
    "arr = np.zeros((3,3), dtype=('int, float, object'))\n",
    "arr = [(1, 2., b'Albert Einstein'), (2, 2., b'Edmond Halley'), (3, 3., b'Gertrude B. Elion')]\n",
    "print(arr)\n",
    "print(\"-\" * 50)"
   ]
  },
  {
   "cell_type": "markdown",
   "metadata": {},
   "source": [
    "Q10. Write the NumPy program to remove the negative values in the\n",
    "numpy array with 0?\n",
    "\n",
    "    Expected OutputOriginal array:\n",
    "    [-1 -4 0 2 3 4 5 -6]\n",
    "    Replace the negative values of the said array with 0-\n",
    "    [0 0 0 2 3 4 5 0]"
   ]
  },
  {
   "cell_type": "code",
   "execution_count": 11,
   "metadata": {},
   "outputs": [
    {
     "name": "stdout",
     "output_type": "stream",
     "text": [
      "#Original array is:\n",
      "[-1 -4  0  2  3  4  5 -6]\n",
      "\n",
      "#Using Index Subscription Condition: After replacing all negetive values with 0, the array is:\n",
      "[0 0 0 2 3 4 5 0]\n",
      "\n",
      "#Using List Comprehension: After replacing all negetive values with 0, the array is:\n",
      "[0, 0, 0, 2, 3, 4, 5, 0]\n",
      "--------------------------------------------------\n"
     ]
    }
   ],
   "source": [
    "arr = np.array([-1, -4, 0, 2, 3, 4, 5, -6])\n",
    "\n",
    "print(f\"#Original array is:\")\n",
    "print(arr)\n",
    "print(\"\\n#Using Index Subscription Condition: After replacing all negetive values with 0, the array is:\")\n",
    "arr[arr < 0] = 0\n",
    "print(arr)\n",
    "\n",
    "#OR\n",
    "print(\"\\n#Using List Comprehension: After replacing all negetive values with 0, the array is:\")\n",
    "arr = [0 if num < 0 else num for num in arr]\n",
    "print(arr)\n",
    "print(\"-\" * 50)"
   ]
  },
  {
   "cell_type": "markdown",
   "metadata": {},
   "source": [
    "Q11. Write the NumPy program to compute the histogram of a set of\n",
    "data?"
   ]
  },
  {
   "cell_type": "code",
   "execution_count": 12,
   "metadata": {},
   "outputs": [
    {
     "name": "stdout",
     "output_type": "stream",
     "text": [
      "--------------------------------------------------\n"
     ]
    },
    {
     "data": {
      "image/png": "[encoded data removed]",
      "text/plain": [
       "<Figure size 432x288 with 1 Axes>"
      ]
     },
     "metadata": {
      "needs_background": "light"
     },
     "output_type": "display_data"
    }
   ],
   "source": [
    "arr = np.array([1, 2, 3, 4, 6, 1, 3, 1])\n",
    "\n",
    "plt.hist(arr, bins=np.unique(arr), histtype='bar', orientation='horizontal')#, 'vertical'}, optional) #'bar', 'barstacked', ,  'stepfilled'}, optional\n",
    "print(\"-\" * 50)"
   ]
  },
  {
   "cell_type": "markdown",
   "metadata": {},
   "source": [
    "Q12. Write the NumPy program to compute the line graph of a set of\n",
    "data?"
   ]
  },
  {
   "cell_type": "code",
   "execution_count": 13,
   "metadata": {},
   "outputs": [
    {
     "name": "stdout",
     "output_type": "stream",
     "text": [
      "--------------------------------------------------\n"
     ]
    },
    {
     "data": {
      "image/png": "[encoded data removed]",
      "text/plain": [
       "<Figure size 432x288 with 1 Axes>"
      ]
     },
     "metadata": {
      "needs_background": "light"
     },
     "output_type": "display_data"
    }
   ],
   "source": [
    "arr = np.random.randn(50)\n",
    "\n",
    "plt.plot(arr)\n",
    "plt.ylabel('')\n",
    "print(\"-\" * 50)"
   ]
  },
  {
   "cell_type": "markdown",
   "metadata": {},
   "source": [
    "Q13. Write the NumPy program to extracts all the elements from second\n",
    "row from given (4x4) array?\n",
    "    \n",
    "    Sample OutputOriginal array-\n",
    "    [[ 0 1 2 3]\n",
    "    [ 4 5 6 7]\n",
    "    [ 8 9 10 11]\n",
    "    [12 13 14 15]]\n",
    "    Extracted data- Second row\n",
    "    [4 5 6 7]"
   ]
  },
  {
   "cell_type": "code",
   "execution_count": 14,
   "metadata": {},
   "outputs": [
    {
     "name": "stdout",
     "output_type": "stream",
     "text": [
      "#Original array of shape (4, 4) is:\n",
      "[[ 0  1  2  3]\n",
      " [ 4  5  6  7]\n",
      " [ 8  9 10 11]\n",
      " [12 13 14 15]]\n",
      "\n",
      "#Extracted data- Second row:\n",
      "[4 5 6 7]\n",
      "--------------------------------------------------\n"
     ]
    }
   ],
   "source": [
    "arr = np.array([[0, 1, 2, 3], [4, 5, 6, 7], [8, 9, 10, 11], [12, 13, 14, 15]])\n",
    "#OR\n",
    "arr = np.arange(16).reshape((4, 4))\n",
    "\n",
    "print(f\"#Original array of shape {arr.shape} is:\")\n",
    "print(arr)\n",
    "\n",
    "#arr[4:8] #use it in case of 1D array.\n",
    "\n",
    "print(\"\\n#Extracted data- Second row:\")\n",
    "print(arr[1,:])\n",
    "print(\"-\" * 50)"
   ]
  },
  {
   "cell_type": "markdown",
   "metadata": {},
   "source": [
    "Q14. Write the NumPy program to extract first element of the second\n",
    "row and fourth element of fourth row from a given (4x4) array?\n",
    "\n",
    "    Sample OutputOriginal array-\n",
    "    [[ 0 1 2 3]\n",
    "    [ 4 5 6 7]\n",
    "    [ 8 9 10 11]\n",
    "    [12 13 14 15]]\n",
    "    Extracted data- First element of the second row and fourth element of fourth row\n",
    "    [ 4 15]\n"
   ]
  },
  {
   "cell_type": "code",
   "execution_count": 15,
   "metadata": {},
   "outputs": [
    {
     "name": "stdout",
     "output_type": "stream",
     "text": [
      "#Original array of shape (4, 4) is:\n",
      "[[ 0  1  2  3]\n",
      " [ 4  5  6  7]\n",
      " [ 8  9 10 11]\n",
      " [12 13 14 15]]\n",
      "\n",
      "#First element of the second row:\n",
      "4\n",
      "\n",
      "#Fourth element of the fourth row:\n",
      "15\n",
      "--------------------------------------------------\n"
     ]
    }
   ],
   "source": [
    "arr = np.arange(16).reshape((4, 4))\n",
    "\n",
    "print(f\"#Original array of shape {arr.shape} is:\")\n",
    "print(arr)\n",
    "\n",
    "print(f\"\\n#First element of the second row:\\n{arr[1,0]}\")\n",
    "print(f\"\\n#Fourth element of the fourth row:\\n{arr[3,3]}\")\n",
    "print(\"-\" * 50)"
   ]
  },
  {
   "cell_type": "markdown",
   "metadata": {},
   "source": [
    "Q15. Write the NumPy program to add two arrays A and B of sizes (3,3)\n",
    "and (,3)?\n",
    "\n",
    "    Sample OutputOriginal arrayArray-1\n",
    "    [[1 1 1]\n",
    "    [1 1 1]\n",
    "    [1 1 1]]\n",
    "    Array-2\n",
    "    [0 1 2]\n",
    "    A + B:\n",
    "    [[1 2 3]\n",
    "    [1 2 3]\n",
    "    [1 2 3]]"
   ]
  },
  {
   "cell_type": "code",
   "execution_count": 16,
   "metadata": {},
   "outputs": [
    {
     "name": "stdout",
     "output_type": "stream",
     "text": [
      "#First array of shape (3, 3) is:\n",
      "[[1 1 1]\n",
      " [1 1 1]\n",
      " [1 1 1]]\n",
      "\n",
      "#Second array of shape (3,) is:\n",
      "[0 1 2]\n",
      "\n",
      "#Resultant array of shape (3, 3) is:\n",
      "[[1 2 3]\n",
      " [1 2 3]\n",
      " [1 2 3]]\n",
      "--------------------------------------------------\n"
     ]
    }
   ],
   "source": [
    "arr1 = np.ones((3,3), dtype=np.int)\n",
    "arr1\n",
    "\n",
    "arr2 = np.arange(3)\n",
    "arr2\n",
    "\n",
    "arr1 + arr2\n",
    "\n",
    "print(f\"#First array of shape {arr1.shape} is:\")\n",
    "print(arr1)\n",
    "\n",
    "print(f\"\\n#Second array of shape {arr2.shape} is:\")\n",
    "print(arr2)\n",
    "\n",
    "print(f\"\\n#Resultant array of shape {(arr1 + arr2).shape} is:\")\n",
    "print(arr1 + arr2)\n",
    "print(\"-\" * 50)"
   ]
  },
  {
   "cell_type": "markdown",
   "metadata": {},
   "source": [
    "Q16. Write the NumPy program to copy data from a given array to\n",
    "another array?\n",
    "\n",
    "    Sample OutputOriginal array-\n",
    "    [24 27 30 29 18 14]\n",
    "    Copy of the said array-\n",
    "    [24 27 30 29 18 14]"
   ]
  },
  {
   "cell_type": "code",
   "execution_count": 17,
   "metadata": {},
   "outputs": [
    {
     "name": "stdout",
     "output_type": "stream",
     "text": [
      "#First array of shape (6,) & memory location 0x8189030 is:\n",
      "[24 27 30 29 18 14]\n",
      "\n",
      "#Deep Copied array of shape (6,) & memory location 0x8414da0 is:\n",
      "[24 27 30 29 18 14]\n",
      "--------------------------------------------------\n"
     ]
    }
   ],
   "source": [
    "arr1 = np.array([24, 27, 30, 29, 18, 14])\n",
    "print(f\"#First array of shape {arr1.shape} & memory location {hex(id(arr1))} is:\")\n",
    "print(arr1)\n",
    "\n",
    "arr2 = arr1.copy()\n",
    "print(f\"\\n#Deep Copied array of shape {arr2.shape} & memory location {hex(id(arr2))} is:\")\n",
    "print(arr2)\n",
    "print(\"-\" * 50)"
   ]
  },
  {
   "cell_type": "markdown",
   "metadata": {},
   "source": [
    "Q17. Write the NumPy program to calculate the sum of all columns of\n",
    "the 2D numpy array?\n",
    "    \n",
    "    Sample OutputOriginal array-\n",
    "    [[ 0 1 2 3 4 5 6 7 8]\n",
    "    [ 9 10 11 12 13 14 15 16 17]\n",
    "    [18 19 20 21 22 23 24 25 26]\n",
    "    [27 28 29 30 31 32 33 34 35]]\n",
    "    Sum of all columns-\n",
    "    [54 58 62 66 70 74 78 82 86]"
   ]
  },
  {
   "cell_type": "code",
   "execution_count": 18,
   "metadata": {},
   "outputs": [
    {
     "name": "stdout",
     "output_type": "stream",
     "text": [
      "#Original array of shape (4, 9) is:\n",
      "[[ 0  1  2  3  4  5  6  7  8]\n",
      " [ 9 10 11 12 13 14 15 16 17]\n",
      " [18 19 20 21 22 23 24 25 26]\n",
      " [27 28 29 30 31 32 33 34 35]]\n",
      "\n",
      "#Column-wise summation is:\n",
      "[54 58 62 66 70 74 78 82 86]\n",
      "--------------------------------------------------\n"
     ]
    }
   ],
   "source": [
    "arr = np.arange(36)\n",
    "arr = arr.reshape((4, -1))\n",
    "\n",
    "print(f\"#Original array of shape {arr.shape} is:\")\n",
    "print(arr)\n",
    "\n",
    "print(f\"\\n#Column-wise summation is:\")\n",
    "print(np.sum(arr, axis=0))\n",
    "print(\"-\" * 50)"
   ]
  },
  {
   "cell_type": "markdown",
   "metadata": {},
   "source": [
    "Q18. Write the NumPy program to calculate averages without NaNs\n",
    "along the given array?\n",
    "    \n",
    "    Sample OutputOriginal array-\n",
    "    [[10. 20. 30.]\n",
    "    [40. 50. nan]\n",
    "    [nan 6. nan]\n",
    "    [nan nan nan]]\n",
    "    Averages without NaNs along the said array-\n",
    "    [20. 45. 6. nan]"
   ]
  },
  {
   "cell_type": "code",
   "execution_count": 19,
   "metadata": {},
   "outputs": [
    {
     "name": "stdout",
     "output_type": "stream",
     "text": [
      "#Original array of shape (4, 3) is:\n",
      "[[10. 20. 30.]\n",
      " [40. 50. nan]\n",
      " [nan  6. nan]\n",
      " [nan nan nan]]\n",
      "[[10.0 20.0 30.0]\n",
      " [40.0 50.0 --]\n",
      " [-- 6.0 --]\n",
      " [-- -- --]]\n",
      "\n",
      "#Averages without NaNs along the said array:\n",
      "[20. 45.  6. nan]\n",
      "\n",
      "#Another way: Averages without NaNs along the said array:\n",
      "[20. 45.  6. nan]\n",
      "--------------------------------------------------\n"
     ]
    },
    {
     "name": "stderr",
     "output_type": "stream",
     "text": [
      "C:\\Users\\shivbaba\\Anaconda3\\lib\\site-packages\\ipykernel_launcher.py:16: RuntimeWarning: Mean of empty slice\n",
      "  app.launch_new_instance()\n"
     ]
    }
   ],
   "source": [
    "arr = np.array([[10, 20 ,30], [40, 50, np.nan], [np.nan, 6, np.nan], [np.nan, np.nan, np.nan]])\n",
    "\n",
    "print(f\"#Original array of shape {arr.shape} is:\")\n",
    "print(arr)\n",
    "\n",
    "temp = np.ma.masked_array(arr, np.isnan(arr))\n",
    "print(temp)\n",
    "result = np.mean(temp, axis=1)\n",
    "\n",
    "print(\"\\n#Averages without NaNs along the said array:\")\n",
    "print(result.filled(np.nan))\n",
    "\n",
    "#OR\n",
    "\n",
    "print(\"\\n#Another way: Averages without NaNs along the said array:\")\n",
    "print(np.nanmean(arr, axis=1))\n",
    "print(\"-\" * 50)"
   ]
  },
  {
   "cell_type": "markdown",
   "metadata": {},
   "source": [
    "## Great Job!"
   ]
  }
 ],
 "metadata": {
  "kernelspec": {
   "display_name": "Python 3",
   "language": "python",
   "name": "python3"
  },
  "language_info": {
   "codemirror_mode": {
    "name": "ipython",
    "version": 3
   },
   "file_extension": ".py",
   "mimetype": "text/x-python",
   "name": "python",
   "nbconvert_exporter": "python",
   "pygments_lexer": "ipython3",
   "version": "3.7.6"
  }
 },
 "nbformat": 4,
 "nbformat_minor": 2
}
